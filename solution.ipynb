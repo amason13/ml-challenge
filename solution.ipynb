{
 "cells": [
  {
   "cell_type": "markdown",
   "metadata": {},
   "source": [
    "# Data Reply - QMU ML Challenge\n",
    "## Introduction\n",
    "\n",
    "In this challenge, you will be using US census data to predict whether or not a person earns over $50k a year.\n",
    "This challenge takes you through the data science process of Data Loading, Data Exploration & Cleansing, Feature Generation, Model Calibration and Model Evaluation. You will build different models to tackle this classification problem, evaluating your models along the way, and finally combining each of your models into your own ensemble classifier.\n",
    "\n",
    "---"
   ]
  },
  {
   "cell_type": "markdown",
   "metadata": {},
   "source": [
    "### The DS process\n",
    "\n",
    "There are 5 main steps in the data science process. \n",
    "\n",
    "1. Data loading. \n",
    "2. Data exploration and clensing. \n",
    "3. Feature generation.\n",
    "4. Model calibration.\n",
    "5. Model evaluation.\n",
    "\n",
    "The majority of a data scientists time is spend on number 2. Exploration and clensing are a very important step in the data science process with data scientists typically spending 80% of their time preparing the data.\n",
    "\n",
    "We will be following this process to demonstrate how ML projects are developped. \n",
    "\n",
    "---"
   ]
  },
  {
   "cell_type": "markdown",
   "metadata": {},
   "source": [
    "### 1. Data Loading\n",
    "\n",
    "In this example, we are using a relatively small and static dataset - so the data loading process is straight forward. \n",
    "\n",
    "In real-life projects, the data:\n",
    " - is sometimes dynamic - updated regularly, or streaming into the data storage system in real time\n",
    " - is often very large - 100s of GBs of TBs\n",
    " - is ALWAYS dirty, and needs cleaning\n",
    "\n",
    "In these cases, some specialised big data or streaming tools may be needed to develop the solution, such as spark, kafke, etc. But, for this example, we will consider this static dataset."
   ]
  },
  {
   "cell_type": "code",
   "execution_count": 1,
   "metadata": {},
   "outputs": [],
   "source": [
    "import numpy as np\n",
    "import pandas as pd\n",
    "import sklearn\n",
    "from zipfile import ZipFile"
   ]
  },
  {
   "cell_type": "markdown",
   "metadata": {},
   "source": [
    "Read the data into a dataframe using pandas, passing the argument names = [...] into the read_csv function to set the column names."
   ]
  },
  {
   "cell_type": "code",
   "execution_count": 2,
   "metadata": {},
   "outputs": [],
   "source": [
    "zip_file = ZipFile('census_data.zip')\n",
    "df = pd.read_csv(zip_file.open('census_data.csv'))"
   ]
  },
  {
   "cell_type": "markdown",
   "metadata": {},
   "source": [
    "We can inspect a sample of the dataframe by using the df.head( ) function. "
   ]
  },
  {
   "cell_type": "code",
   "execution_count": 3,
   "metadata": {
    "scrolled": false
   },
   "outputs": [
    {
     "data": {
      "text/html": [
       "<div>\n",
       "<style scoped>\n",
       "    .dataframe tbody tr th:only-of-type {\n",
       "        vertical-align: middle;\n",
       "    }\n",
       "\n",
       "    .dataframe tbody tr th {\n",
       "        vertical-align: top;\n",
       "    }\n",
       "\n",
       "    .dataframe thead th {\n",
       "        text-align: right;\n",
       "    }\n",
       "</style>\n",
       "<table border=\"1\" class=\"dataframe\">\n",
       "  <thead>\n",
       "    <tr style=\"text-align: right;\">\n",
       "      <th></th>\n",
       "      <th>age</th>\n",
       "      <th>class_of_worker</th>\n",
       "      <th>education</th>\n",
       "      <th>wage_per_hour</th>\n",
       "      <th>marital_status</th>\n",
       "      <th>major_industry_code</th>\n",
       "      <th>major_occupation_code</th>\n",
       "      <th>race</th>\n",
       "      <th>sex</th>\n",
       "      <th>full_or_part_time_employment_stat</th>\n",
       "      <th>...</th>\n",
       "      <th>live_in_this_house_1_year_ago</th>\n",
       "      <th>family_members_under</th>\n",
       "      <th>total_person_earnings</th>\n",
       "      <th>country_of_birth_father</th>\n",
       "      <th>country_of_birth_mother</th>\n",
       "      <th>country_of_birth_self</th>\n",
       "      <th>citizenship</th>\n",
       "      <th>own_business_or_self_employed</th>\n",
       "      <th>weeks_worked</th>\n",
       "      <th>earn_over_50k</th>\n",
       "    </tr>\n",
       "  </thead>\n",
       "  <tbody>\n",
       "    <tr>\n",
       "      <th>0</th>\n",
       "      <td>73</td>\n",
       "      <td>Not in universe</td>\n",
       "      <td>High school graduate</td>\n",
       "      <td>0</td>\n",
       "      <td>Widowed</td>\n",
       "      <td>Not in universe or children</td>\n",
       "      <td>Not in universe</td>\n",
       "      <td>White</td>\n",
       "      <td>Female</td>\n",
       "      <td>Not in labor force</td>\n",
       "      <td>...</td>\n",
       "      <td>Not in universe under 1 year old</td>\n",
       "      <td>0</td>\n",
       "      <td>Not in universe</td>\n",
       "      <td>United-States</td>\n",
       "      <td>United-States</td>\n",
       "      <td>United-States</td>\n",
       "      <td>Native- Born in the United States</td>\n",
       "      <td>Not in universe</td>\n",
       "      <td>0</td>\n",
       "      <td>-50000</td>\n",
       "    </tr>\n",
       "    <tr>\n",
       "      <th>1</th>\n",
       "      <td>58</td>\n",
       "      <td>Self-employed-not incorporated</td>\n",
       "      <td>Some college but no degree</td>\n",
       "      <td>0</td>\n",
       "      <td>Divorced</td>\n",
       "      <td>Construction</td>\n",
       "      <td>Precision production craft &amp; repair</td>\n",
       "      <td>White</td>\n",
       "      <td>Male</td>\n",
       "      <td>Children or Armed Forces</td>\n",
       "      <td>...</td>\n",
       "      <td>No</td>\n",
       "      <td>1</td>\n",
       "      <td>Not in universe</td>\n",
       "      <td>United-States</td>\n",
       "      <td>United-States</td>\n",
       "      <td>United-States</td>\n",
       "      <td>Native- Born in the United States</td>\n",
       "      <td>Not in universe</td>\n",
       "      <td>52</td>\n",
       "      <td>-50000</td>\n",
       "    </tr>\n",
       "    <tr>\n",
       "      <th>2</th>\n",
       "      <td>18</td>\n",
       "      <td>Not in universe</td>\n",
       "      <td>10th grade</td>\n",
       "      <td>0</td>\n",
       "      <td>Never married</td>\n",
       "      <td>Not in universe or children</td>\n",
       "      <td>Not in universe</td>\n",
       "      <td>Asian or Pacific Islander</td>\n",
       "      <td>Female</td>\n",
       "      <td>Not in labor force</td>\n",
       "      <td>...</td>\n",
       "      <td>Not in universe under 1 year old</td>\n",
       "      <td>0</td>\n",
       "      <td>Not in universe</td>\n",
       "      <td>Vietnam</td>\n",
       "      <td>Vietnam</td>\n",
       "      <td>Vietnam</td>\n",
       "      <td>Foreign born- Not a citizen of U S</td>\n",
       "      <td>Not in universe</td>\n",
       "      <td>0</td>\n",
       "      <td>-50000</td>\n",
       "    </tr>\n",
       "    <tr>\n",
       "      <th>3</th>\n",
       "      <td>9</td>\n",
       "      <td>Not in universe</td>\n",
       "      <td>Children</td>\n",
       "      <td>0</td>\n",
       "      <td>Never married</td>\n",
       "      <td>Not in universe or children</td>\n",
       "      <td>Not in universe</td>\n",
       "      <td>White</td>\n",
       "      <td>Female</td>\n",
       "      <td>Children or Armed Forces</td>\n",
       "      <td>...</td>\n",
       "      <td>Yes</td>\n",
       "      <td>0</td>\n",
       "      <td>Both parents present</td>\n",
       "      <td>United-States</td>\n",
       "      <td>United-States</td>\n",
       "      <td>United-States</td>\n",
       "      <td>Native- Born in the United States</td>\n",
       "      <td>Not in universe</td>\n",
       "      <td>0</td>\n",
       "      <td>-50000</td>\n",
       "    </tr>\n",
       "    <tr>\n",
       "      <th>4</th>\n",
       "      <td>10</td>\n",
       "      <td>Not in universe</td>\n",
       "      <td>Children</td>\n",
       "      <td>0</td>\n",
       "      <td>Never married</td>\n",
       "      <td>Not in universe or children</td>\n",
       "      <td>Not in universe</td>\n",
       "      <td>White</td>\n",
       "      <td>Female</td>\n",
       "      <td>Children or Armed Forces</td>\n",
       "      <td>...</td>\n",
       "      <td>Yes</td>\n",
       "      <td>0</td>\n",
       "      <td>Both parents present</td>\n",
       "      <td>United-States</td>\n",
       "      <td>United-States</td>\n",
       "      <td>United-States</td>\n",
       "      <td>Native- Born in the United States</td>\n",
       "      <td>Not in universe</td>\n",
       "      <td>0</td>\n",
       "      <td>-50000</td>\n",
       "    </tr>\n",
       "  </tbody>\n",
       "</table>\n",
       "<p>5 rows × 23 columns</p>\n",
       "</div>"
      ],
      "text/plain": [
       "   age                 class_of_worker                   education  \\\n",
       "0   73                 Not in universe        High school graduate   \n",
       "1   58  Self-employed-not incorporated  Some college but no degree   \n",
       "2   18                 Not in universe                  10th grade   \n",
       "3    9                 Not in universe                    Children   \n",
       "4   10                 Not in universe                    Children   \n",
       "\n",
       "   wage_per_hour marital_status          major_industry_code  \\\n",
       "0              0        Widowed  Not in universe or children   \n",
       "1              0       Divorced                 Construction   \n",
       "2              0  Never married  Not in universe or children   \n",
       "3              0  Never married  Not in universe or children   \n",
       "4              0  Never married  Not in universe or children   \n",
       "\n",
       "                 major_occupation_code                       race     sex  \\\n",
       "0                      Not in universe                      White  Female   \n",
       "1  Precision production craft & repair                      White    Male   \n",
       "2                      Not in universe  Asian or Pacific Islander  Female   \n",
       "3                      Not in universe                      White  Female   \n",
       "4                      Not in universe                      White  Female   \n",
       "\n",
       "  full_or_part_time_employment_stat  ...     live_in_this_house_1_year_ago  \\\n",
       "0                Not in labor force  ...  Not in universe under 1 year old   \n",
       "1          Children or Armed Forces  ...                                No   \n",
       "2                Not in labor force  ...  Not in universe under 1 year old   \n",
       "3          Children or Armed Forces  ...                               Yes   \n",
       "4          Children or Armed Forces  ...                               Yes   \n",
       "\n",
       "   family_members_under  total_person_earnings country_of_birth_father  \\\n",
       "0                     0        Not in universe           United-States   \n",
       "1                     1        Not in universe           United-States   \n",
       "2                     0        Not in universe                 Vietnam   \n",
       "3                     0   Both parents present           United-States   \n",
       "4                     0   Both parents present           United-States   \n",
       "\n",
       "   country_of_birth_mother country_of_birth_self  \\\n",
       "0            United-States         United-States   \n",
       "1            United-States         United-States   \n",
       "2                  Vietnam               Vietnam   \n",
       "3            United-States         United-States   \n",
       "4            United-States         United-States   \n",
       "\n",
       "                          citizenship own_business_or_self_employed  \\\n",
       "0   Native- Born in the United States               Not in universe   \n",
       "1   Native- Born in the United States               Not in universe   \n",
       "2  Foreign born- Not a citizen of U S               Not in universe   \n",
       "3   Native- Born in the United States               Not in universe   \n",
       "4   Native- Born in the United States               Not in universe   \n",
       "\n",
       "  weeks_worked earn_over_50k  \n",
       "0            0        -50000  \n",
       "1           52        -50000  \n",
       "2            0        -50000  \n",
       "3            0        -50000  \n",
       "4            0        -50000  \n",
       "\n",
       "[5 rows x 23 columns]"
      ]
     },
     "execution_count": 3,
     "metadata": {},
     "output_type": "execute_result"
    }
   ],
   "source": [
    "df.head(n=5)"
   ]
  },
  {
   "cell_type": "markdown",
   "metadata": {},
   "source": [
    "You will notice that some of the columns are obscured from view. This is a default setting and can be overwritten using the following command. "
   ]
  },
  {
   "cell_type": "code",
   "execution_count": 4,
   "metadata": {},
   "outputs": [],
   "source": [
    "pd.set_option('display.max_columns', 100)\n",
    "pd.set_option('display.width', 1000)"
   ]
  },
  {
   "cell_type": "code",
   "execution_count": 5,
   "metadata": {},
   "outputs": [
    {
     "data": {
      "text/html": [
       "<div>\n",
       "<style scoped>\n",
       "    .dataframe tbody tr th:only-of-type {\n",
       "        vertical-align: middle;\n",
       "    }\n",
       "\n",
       "    .dataframe tbody tr th {\n",
       "        vertical-align: top;\n",
       "    }\n",
       "\n",
       "    .dataframe thead th {\n",
       "        text-align: right;\n",
       "    }\n",
       "</style>\n",
       "<table border=\"1\" class=\"dataframe\">\n",
       "  <thead>\n",
       "    <tr style=\"text-align: right;\">\n",
       "      <th></th>\n",
       "      <th>age</th>\n",
       "      <th>class_of_worker</th>\n",
       "      <th>education</th>\n",
       "      <th>wage_per_hour</th>\n",
       "      <th>marital_status</th>\n",
       "      <th>major_industry_code</th>\n",
       "      <th>major_occupation_code</th>\n",
       "      <th>race</th>\n",
       "      <th>sex</th>\n",
       "      <th>full_or_part_time_employment_stat</th>\n",
       "      <th>capital_gains</th>\n",
       "      <th>capital_losses</th>\n",
       "      <th>divdends_from_stocks</th>\n",
       "      <th>live_in_this_house_1_year_ago</th>\n",
       "      <th>family_members_under</th>\n",
       "      <th>total_person_earnings</th>\n",
       "      <th>country_of_birth_father</th>\n",
       "      <th>country_of_birth_mother</th>\n",
       "      <th>country_of_birth_self</th>\n",
       "      <th>citizenship</th>\n",
       "      <th>own_business_or_self_employed</th>\n",
       "      <th>weeks_worked</th>\n",
       "      <th>earn_over_50k</th>\n",
       "    </tr>\n",
       "  </thead>\n",
       "  <tbody>\n",
       "    <tr>\n",
       "      <th>0</th>\n",
       "      <td>73</td>\n",
       "      <td>Not in universe</td>\n",
       "      <td>High school graduate</td>\n",
       "      <td>0</td>\n",
       "      <td>Widowed</td>\n",
       "      <td>Not in universe or children</td>\n",
       "      <td>Not in universe</td>\n",
       "      <td>White</td>\n",
       "      <td>Female</td>\n",
       "      <td>Not in labor force</td>\n",
       "      <td>0</td>\n",
       "      <td>0</td>\n",
       "      <td>0</td>\n",
       "      <td>Not in universe under 1 year old</td>\n",
       "      <td>0</td>\n",
       "      <td>Not in universe</td>\n",
       "      <td>United-States</td>\n",
       "      <td>United-States</td>\n",
       "      <td>United-States</td>\n",
       "      <td>Native- Born in the United States</td>\n",
       "      <td>Not in universe</td>\n",
       "      <td>0</td>\n",
       "      <td>-50000</td>\n",
       "    </tr>\n",
       "    <tr>\n",
       "      <th>1</th>\n",
       "      <td>58</td>\n",
       "      <td>Self-employed-not incorporated</td>\n",
       "      <td>Some college but no degree</td>\n",
       "      <td>0</td>\n",
       "      <td>Divorced</td>\n",
       "      <td>Construction</td>\n",
       "      <td>Precision production craft &amp; repair</td>\n",
       "      <td>White</td>\n",
       "      <td>Male</td>\n",
       "      <td>Children or Armed Forces</td>\n",
       "      <td>0</td>\n",
       "      <td>0</td>\n",
       "      <td>0</td>\n",
       "      <td>No</td>\n",
       "      <td>1</td>\n",
       "      <td>Not in universe</td>\n",
       "      <td>United-States</td>\n",
       "      <td>United-States</td>\n",
       "      <td>United-States</td>\n",
       "      <td>Native- Born in the United States</td>\n",
       "      <td>Not in universe</td>\n",
       "      <td>52</td>\n",
       "      <td>-50000</td>\n",
       "    </tr>\n",
       "    <tr>\n",
       "      <th>2</th>\n",
       "      <td>18</td>\n",
       "      <td>Not in universe</td>\n",
       "      <td>10th grade</td>\n",
       "      <td>0</td>\n",
       "      <td>Never married</td>\n",
       "      <td>Not in universe or children</td>\n",
       "      <td>Not in universe</td>\n",
       "      <td>Asian or Pacific Islander</td>\n",
       "      <td>Female</td>\n",
       "      <td>Not in labor force</td>\n",
       "      <td>0</td>\n",
       "      <td>0</td>\n",
       "      <td>0</td>\n",
       "      <td>Not in universe under 1 year old</td>\n",
       "      <td>0</td>\n",
       "      <td>Not in universe</td>\n",
       "      <td>Vietnam</td>\n",
       "      <td>Vietnam</td>\n",
       "      <td>Vietnam</td>\n",
       "      <td>Foreign born- Not a citizen of U S</td>\n",
       "      <td>Not in universe</td>\n",
       "      <td>0</td>\n",
       "      <td>-50000</td>\n",
       "    </tr>\n",
       "    <tr>\n",
       "      <th>3</th>\n",
       "      <td>9</td>\n",
       "      <td>Not in universe</td>\n",
       "      <td>Children</td>\n",
       "      <td>0</td>\n",
       "      <td>Never married</td>\n",
       "      <td>Not in universe or children</td>\n",
       "      <td>Not in universe</td>\n",
       "      <td>White</td>\n",
       "      <td>Female</td>\n",
       "      <td>Children or Armed Forces</td>\n",
       "      <td>0</td>\n",
       "      <td>0</td>\n",
       "      <td>0</td>\n",
       "      <td>Yes</td>\n",
       "      <td>0</td>\n",
       "      <td>Both parents present</td>\n",
       "      <td>United-States</td>\n",
       "      <td>United-States</td>\n",
       "      <td>United-States</td>\n",
       "      <td>Native- Born in the United States</td>\n",
       "      <td>Not in universe</td>\n",
       "      <td>0</td>\n",
       "      <td>-50000</td>\n",
       "    </tr>\n",
       "    <tr>\n",
       "      <th>4</th>\n",
       "      <td>10</td>\n",
       "      <td>Not in universe</td>\n",
       "      <td>Children</td>\n",
       "      <td>0</td>\n",
       "      <td>Never married</td>\n",
       "      <td>Not in universe or children</td>\n",
       "      <td>Not in universe</td>\n",
       "      <td>White</td>\n",
       "      <td>Female</td>\n",
       "      <td>Children or Armed Forces</td>\n",
       "      <td>0</td>\n",
       "      <td>0</td>\n",
       "      <td>0</td>\n",
       "      <td>Yes</td>\n",
       "      <td>0</td>\n",
       "      <td>Both parents present</td>\n",
       "      <td>United-States</td>\n",
       "      <td>United-States</td>\n",
       "      <td>United-States</td>\n",
       "      <td>Native- Born in the United States</td>\n",
       "      <td>Not in universe</td>\n",
       "      <td>0</td>\n",
       "      <td>-50000</td>\n",
       "    </tr>\n",
       "  </tbody>\n",
       "</table>\n",
       "</div>"
      ],
      "text/plain": [
       "   age                 class_of_worker                   education  wage_per_hour marital_status          major_industry_code                major_occupation_code                       race     sex full_or_part_time_employment_stat  capital_gains  capital_losses  divdends_from_stocks     live_in_this_house_1_year_ago  family_members_under total_person_earnings country_of_birth_father country_of_birth_mother country_of_birth_self                         citizenship own_business_or_self_employed  weeks_worked earn_over_50k\n",
       "0   73                 Not in universe        High school graduate              0        Widowed  Not in universe or children                      Not in universe                      White  Female                Not in labor force              0               0                     0  Not in universe under 1 year old                     0       Not in universe           United-States           United-States         United-States   Native- Born in the United States               Not in universe             0        -50000\n",
       "1   58  Self-employed-not incorporated  Some college but no degree              0       Divorced                 Construction  Precision production craft & repair                      White    Male          Children or Armed Forces              0               0                     0                                No                     1       Not in universe           United-States           United-States         United-States   Native- Born in the United States               Not in universe            52        -50000\n",
       "2   18                 Not in universe                  10th grade              0  Never married  Not in universe or children                      Not in universe  Asian or Pacific Islander  Female                Not in labor force              0               0                     0  Not in universe under 1 year old                     0       Not in universe                 Vietnam                 Vietnam               Vietnam  Foreign born- Not a citizen of U S               Not in universe             0        -50000\n",
       "3    9                 Not in universe                    Children              0  Never married  Not in universe or children                      Not in universe                      White  Female          Children or Armed Forces              0               0                     0                               Yes                     0  Both parents present           United-States           United-States         United-States   Native- Born in the United States               Not in universe             0        -50000\n",
       "4   10                 Not in universe                    Children              0  Never married  Not in universe or children                      Not in universe                      White  Female          Children or Armed Forces              0               0                     0                               Yes                     0  Both parents present           United-States           United-States         United-States   Native- Born in the United States               Not in universe             0        -50000"
      ]
     },
     "execution_count": 5,
     "metadata": {},
     "output_type": "execute_result"
    }
   ],
   "source": [
    "df.head(n=5)"
   ]
  },
  {
   "cell_type": "markdown",
   "metadata": {},
   "source": [
    "---\n",
    "### 2. Data Exploration & Clensing\n",
    "\n",
    "Now that the data is loaded into a dataframe, we can look at some summary statistics of numerical columns to give us a first idea of the data."
   ]
  },
  {
   "cell_type": "code",
   "execution_count": 6,
   "metadata": {
    "scrolled": true
   },
   "outputs": [
    {
     "data": {
      "text/html": [
       "<div>\n",
       "<style scoped>\n",
       "    .dataframe tbody tr th:only-of-type {\n",
       "        vertical-align: middle;\n",
       "    }\n",
       "\n",
       "    .dataframe tbody tr th {\n",
       "        vertical-align: top;\n",
       "    }\n",
       "\n",
       "    .dataframe thead th {\n",
       "        text-align: right;\n",
       "    }\n",
       "</style>\n",
       "<table border=\"1\" class=\"dataframe\">\n",
       "  <thead>\n",
       "    <tr style=\"text-align: right;\">\n",
       "      <th></th>\n",
       "      <th>age</th>\n",
       "      <th>wage_per_hour</th>\n",
       "      <th>capital_gains</th>\n",
       "      <th>capital_losses</th>\n",
       "      <th>divdends_from_stocks</th>\n",
       "      <th>family_members_under</th>\n",
       "      <th>weeks_worked</th>\n",
       "    </tr>\n",
       "  </thead>\n",
       "  <tbody>\n",
       "    <tr>\n",
       "      <th>count</th>\n",
       "      <td>199523.000000</td>\n",
       "      <td>199523.000000</td>\n",
       "      <td>199523.00000</td>\n",
       "      <td>199523.000000</td>\n",
       "      <td>199523.000000</td>\n",
       "      <td>199523.000000</td>\n",
       "      <td>199523.000000</td>\n",
       "    </tr>\n",
       "    <tr>\n",
       "      <th>mean</th>\n",
       "      <td>34.494199</td>\n",
       "      <td>55.426908</td>\n",
       "      <td>434.71899</td>\n",
       "      <td>37.313788</td>\n",
       "      <td>197.529533</td>\n",
       "      <td>1.956180</td>\n",
       "      <td>23.174897</td>\n",
       "    </tr>\n",
       "    <tr>\n",
       "      <th>std</th>\n",
       "      <td>22.310895</td>\n",
       "      <td>274.896454</td>\n",
       "      <td>4697.53128</td>\n",
       "      <td>271.896428</td>\n",
       "      <td>1984.163658</td>\n",
       "      <td>2.365126</td>\n",
       "      <td>24.411488</td>\n",
       "    </tr>\n",
       "    <tr>\n",
       "      <th>min</th>\n",
       "      <td>0.000000</td>\n",
       "      <td>0.000000</td>\n",
       "      <td>0.00000</td>\n",
       "      <td>0.000000</td>\n",
       "      <td>0.000000</td>\n",
       "      <td>0.000000</td>\n",
       "      <td>0.000000</td>\n",
       "    </tr>\n",
       "    <tr>\n",
       "      <th>25%</th>\n",
       "      <td>15.000000</td>\n",
       "      <td>0.000000</td>\n",
       "      <td>0.00000</td>\n",
       "      <td>0.000000</td>\n",
       "      <td>0.000000</td>\n",
       "      <td>0.000000</td>\n",
       "      <td>0.000000</td>\n",
       "    </tr>\n",
       "    <tr>\n",
       "      <th>50%</th>\n",
       "      <td>33.000000</td>\n",
       "      <td>0.000000</td>\n",
       "      <td>0.00000</td>\n",
       "      <td>0.000000</td>\n",
       "      <td>0.000000</td>\n",
       "      <td>1.000000</td>\n",
       "      <td>8.000000</td>\n",
       "    </tr>\n",
       "    <tr>\n",
       "      <th>75%</th>\n",
       "      <td>50.000000</td>\n",
       "      <td>0.000000</td>\n",
       "      <td>0.00000</td>\n",
       "      <td>0.000000</td>\n",
       "      <td>0.000000</td>\n",
       "      <td>4.000000</td>\n",
       "      <td>52.000000</td>\n",
       "    </tr>\n",
       "    <tr>\n",
       "      <th>max</th>\n",
       "      <td>90.000000</td>\n",
       "      <td>9999.000000</td>\n",
       "      <td>99999.00000</td>\n",
       "      <td>4608.000000</td>\n",
       "      <td>99999.000000</td>\n",
       "      <td>6.000000</td>\n",
       "      <td>52.000000</td>\n",
       "    </tr>\n",
       "  </tbody>\n",
       "</table>\n",
       "</div>"
      ],
      "text/plain": [
       "                 age  wage_per_hour  capital_gains  capital_losses  divdends_from_stocks  family_members_under   weeks_worked\n",
       "count  199523.000000  199523.000000   199523.00000   199523.000000         199523.000000         199523.000000  199523.000000\n",
       "mean       34.494199      55.426908      434.71899       37.313788            197.529533              1.956180      23.174897\n",
       "std        22.310895     274.896454     4697.53128      271.896428           1984.163658              2.365126      24.411488\n",
       "min         0.000000       0.000000        0.00000        0.000000              0.000000              0.000000       0.000000\n",
       "25%        15.000000       0.000000        0.00000        0.000000              0.000000              0.000000       0.000000\n",
       "50%        33.000000       0.000000        0.00000        0.000000              0.000000              1.000000       8.000000\n",
       "75%        50.000000       0.000000        0.00000        0.000000              0.000000              4.000000      52.000000\n",
       "max        90.000000    9999.000000    99999.00000     4608.000000          99999.000000              6.000000      52.000000"
      ]
     },
     "execution_count": 6,
     "metadata": {},
     "output_type": "execute_result"
    }
   ],
   "source": [
    "df.describe()"
   ]
  },
  {
   "cell_type": "markdown",
   "metadata": {},
   "source": [
    "---\n",
    "Different features of the data may need different preprocessing steps. For example, \"sex\" might be encoded to 0 and 1 to represent male and female\\*, but doing this with \"wage_per_hour\" - a continuous data type - wouldn't make sense.\n",
    "\n",
    "\\**NOTE: the US census dataset used here uses biological \"sex\", for which there were 2 options (male and female), as opposed to gender where may be more.*\n",
    "\n",
    "There are 4 different 'types' of feature which may be present in the data: nominal, ordinal, interval and ratio. Each of these should be dealt with in different ways. [This website](https://www.graphpad.com/support/faq/what-is-the-difference-between-ordinal-interval-and-ratio-variables-why-should-i-care/) gives some more context on these different feature types. \n",
    "\n",
    "From these definitions, we can see that \"sex\" is obviously a nominal feature. If there are other nominal features in the dataset, it might be useful to create some kind of function which can be applied to each nominal column - then also for each ordinal, interval and ratio columns. To do this we shall make use of sklearn's transformers - more on these later. \n",
    "\n",
    "But first, we need to determine which features belong to each of these categories. \n",
    "\n",
    "We can inspect the columns and their datatypes by running df.dtypes in the next cell. "
   ]
  },
  {
   "cell_type": "code",
   "execution_count": 14,
   "metadata": {},
   "outputs": [
    {
     "data": {
      "text/plain": [
       "age                                   int64\n",
       "class_of_worker                      object\n",
       "education                            object\n",
       "wage_per_hour                         int64\n",
       "marital_status                       object\n",
       "major_industry_code                  object\n",
       "major_occupation_code                object\n",
       "race                                 object\n",
       "sex                                  object\n",
       "full_or_part_time_employment_stat    object\n",
       "capital_gains                         int64\n",
       "capital_losses                        int64\n",
       "divdends_from_stocks                  int64\n",
       "live_in_this_house_1_year_ago        object\n",
       "family_members_under                  int64\n",
       "total_person_earnings                object\n",
       "country_of_birth_father              object\n",
       "country_of_birth_mother              object\n",
       "country_of_birth_self                object\n",
       "citizenship                          object\n",
       "own_business_or_self_employed        object\n",
       "weeks_worked                          int64\n",
       "earn_over_50k                        object\n",
       "dtype: object"
      ]
     },
     "execution_count": 14,
     "metadata": {},
     "output_type": "execute_result"
    }
   ],
   "source": [
    "df.dtypes"
   ]
  },
  {
   "cell_type": "code",
   "execution_count": 15,
   "metadata": {},
   "outputs": [
    {
     "data": {
      "text/plain": [
       "dtype('int64')"
      ]
     },
     "execution_count": 15,
     "metadata": {},
     "output_type": "execute_result"
    }
   ],
   "source": [
    "df.dtypes[0]"
   ]
  },
  {
   "cell_type": "code",
   "execution_count": 16,
   "metadata": {},
   "outputs": [
    {
     "data": {
      "text/plain": [
       "pandas.core.series.Series"
      ]
     },
     "execution_count": 16,
     "metadata": {},
     "output_type": "execute_result"
    }
   ],
   "source": [
    "type(df.dtypes)"
   ]
  },
  {
   "cell_type": "markdown",
   "metadata": {},
   "source": [
    "---\n",
    "As we can see, our features are either int64, or object datatypes. (Here, object can be thought of as string.)\n",
    "\n",
    "Inspecting columns of each datatype in turn might be a good place to start when determining which columns are nominal, etc. \n",
    "Remember though, ALL DATA IS DIRTY. \n",
    "Columns may need to be changed from one datatype to another, this is just a starting point.\n",
    "\n",
    "\n",
    "Complete the function in the next cell to return a list of all columns from a dataframe of a given datatype."
   ]
  },
  {
   "cell_type": "code",
   "execution_count": 8,
   "metadata": {},
   "outputs": [],
   "source": [
    "def get_cols_of_type(input_df, data_type):\n",
    "    '''\n",
    "    Takes a dataframe and dtype, eg. string, and returns a list of columns names of that dtype.\n",
    "    '''\n",
    "    output_list = []\n",
    "    # fill in logic here.\n",
    "    for i in range(len(input_df.columns)): # del\n",
    "        if input_df.dtypes[i]==data_type: # del\n",
    "            output_list.append(input_df.columns[i]) # del\n",
    "            \n",
    "    return output_list\n"
   ]
  },
  {
   "cell_type": "code",
   "execution_count": 9,
   "metadata": {},
   "outputs": [
    {
     "data": {
      "text/plain": [
       "['age',\n",
       " 'wage_per_hour',\n",
       " 'capital_gains',\n",
       " 'capital_losses',\n",
       " 'divdends_from_stocks',\n",
       " 'family_members_under',\n",
       " 'weeks_worked']"
      ]
     },
     "execution_count": 9,
     "metadata": {},
     "output_type": "execute_result"
    }
   ],
   "source": [
    "# display int datatypes from our dataframe\n",
    "get_cols_of_type(df, int)"
   ]
  },
  {
   "cell_type": "code",
   "execution_count": 10,
   "metadata": {},
   "outputs": [
    {
     "data": {
      "text/plain": [
       "['class_of_worker',\n",
       " 'education',\n",
       " 'marital_status',\n",
       " 'major_industry_code',\n",
       " 'major_occupation_code',\n",
       " 'race',\n",
       " 'sex',\n",
       " 'full_or_part_time_employment_stat',\n",
       " 'live_in_this_house_1_year_ago',\n",
       " 'total_person_earnings',\n",
       " 'country_of_birth_father',\n",
       " 'country_of_birth_mother',\n",
       " 'country_of_birth_self',\n",
       " 'citizenship',\n",
       " 'own_business_or_self_employed',\n",
       " 'earn_over_50k']"
      ]
     },
     "execution_count": 10,
     "metadata": {},
     "output_type": "execute_result"
    }
   ],
   "source": [
    "# display object datatypes from our dataframe\n",
    "get_cols_of_type(df, object)"
   ]
  },
  {
   "cell_type": "markdown",
   "metadata": {},
   "source": [
    "---\n",
    "Now let's go through each column and decide which category each belongs to. Then we can deal with each feature type in turn by passing our list of columns into our transformer function. \n",
    "\n",
    "**Remember** - earn_over_50k will be our target variable, so we want to keep that separate."
   ]
  },
  {
   "cell_type": "code",
   "execution_count": 19,
   "metadata": {},
   "outputs": [
    {
     "data": {
      "text/plain": [
       "['Both parents present',\n",
       " 'Father only present',\n",
       " 'Mother only present',\n",
       " 'Neither parent present',\n",
       " 'Not in universe']"
      ]
     },
     "execution_count": 19,
     "metadata": {},
     "output_type": "execute_result"
    }
   ],
   "source": [
    "sorted(df.total_person_earnings.unique())"
   ]
  },
  {
   "cell_type": "code",
   "execution_count": 11,
   "metadata": {},
   "outputs": [],
   "source": [
    "nominal_cols = ['class_of_worker',\n",
    "                 'marital_status',\n",
    "                 'major_industry_code',\n",
    "                 'major_occupation_code',\n",
    "                 'race',\n",
    "                 'sex',\n",
    "                 'full_or_part_time_employment_stat',\n",
    "                 'live_in_this_house_1_year_ago',\n",
    "                 'total_person_earnings',\n",
    "                 'country_of_birth_father',\n",
    "                 'country_of_birth_mother',\n",
    "                 'country_of_birth_self',\n",
    "                 'citizenship',\n",
    "                 'own_business_or_self_employed']\n",
    "\n",
    "ordinal_cols = [\"education\"]\n",
    "\n",
    "interval_cols = []\n",
    "\n",
    "ratio_cols = ['age',\n",
    "             'wage_per_hour',\n",
    "             'capital_gains',\n",
    "             'capital_losses',\n",
    "             'divdends_from_stocks',\n",
    "             'family_members_under',\n",
    "             'weeks_worked']\n",
    "\n",
    "target_col = [\"earn_over_50k\"]"
   ]
  },
  {
   "cell_type": "markdown",
   "metadata": {},
   "source": [
    "**Hint**: something which might be useful to inspect what values a feature can take is df.column.unique( )"
   ]
  },
  {
   "cell_type": "markdown",
   "metadata": {},
   "source": [
    "---\n",
    "Once you have finished, perform a quick check that the number of columns in the dataframe matches the number of elements in all your lists combined, using 'assert'."
   ]
  },
  {
   "cell_type": "code",
   "execution_count": 12,
   "metadata": {},
   "outputs": [],
   "source": [
    "assert len(nominal_cols+ordinal_cols+interval_cols+ratio_cols+target_col) == len(df.columns)"
   ]
  },
  {
   "cell_type": "markdown",
   "metadata": {},
   "source": [
    "---\n",
    "Now let's look at each feature type in turn and see how we will deal with them, starting with nominal features. \n",
    "The following for look allows us to inspect all the possbile values which each nominal feature can take. "
   ]
  },
  {
   "cell_type": "code",
   "execution_count": 13,
   "metadata": {},
   "outputs": [
    {
     "name": "stdout",
     "output_type": "stream",
     "text": [
      "class_of_worker:\n",
      "['Federal government', 'Local government', 'Never worked', 'Not in universe', 'Private', 'Self-employed-incorporated', 'Self-employed-not incorporated', 'State government', 'Without pay']\n",
      "\n",
      "marital_status:\n",
      "['Divorced', 'Married-A F spouse present', 'Married-civilian spouse present', 'Married-spouse absent', 'Never married', 'Separated', 'Widowed']\n",
      "\n",
      "major_industry_code:\n",
      "['Agriculture', 'Armed Forces', 'Business and repair services', 'Communications', 'Construction', 'Education', 'Entertainment', 'Finance insurance and real estate', 'Forestry and fisheries', 'Hospital services', 'Manufacturing-durable goods', 'Manufacturing-nondurable goods', 'Medical except hospital', 'Mining', 'Not in universe or children', 'Other professional services', 'Personal services except private HH', 'Private household services', 'Public administration', 'Retail trade', 'Social services', 'Transportation', 'Utilities and sanitary services', 'Wholesale trade']\n",
      "\n",
      "major_occupation_code:\n",
      "['Adm support including clerical', 'Armed Forces', 'Executive admin and managerial', 'Farming forestry and fishing', 'Handlers equip cleaners etc', 'Machine operators assmblrs & inspctrs', 'Not in universe', 'Other service', 'Precision production craft & repair', 'Private household services', 'Professional specialty', 'Protective services', 'Sales', 'Technicians and related support', 'Transportation and material moving']\n",
      "\n",
      "race:\n",
      "['Amer Indian Aleut or Eskimo', 'Asian or Pacific Islander', 'Black', 'Other', 'White']\n",
      "\n",
      "sex:\n",
      "['Female', 'Male']\n",
      "\n",
      "full_or_part_time_employment_stat:\n",
      "['Children or Armed Forces', 'Full-time schedules', 'Not in labor force', 'PT for econ reasons usually FT', 'PT for econ reasons usually PT', 'PT for non-econ reasons usually FT', 'Unemployed full-time', 'Unemployed part- time']\n",
      "\n",
      "live_in_this_house_1_year_ago:\n",
      "['No', 'Not in universe under 1 year old', 'Yes']\n",
      "\n",
      "total_person_earnings:\n",
      "['Both parents present', 'Father only present', 'Mother only present', 'Neither parent present', 'Not in universe']\n",
      "\n",
      "country_of_birth_father:\n",
      "['?', 'Cambodia', 'Canada', 'China', 'Columbia', 'Cuba', 'Dominican-Republic', 'Ecuador', 'El-Salvador', 'England', 'France', 'Germany', 'Greece', 'Guatemala', 'Haiti', 'Holand-Netherlands', 'Honduras', 'Hong Kong', 'Hungary', 'India', 'Iran', 'Ireland', 'Italy', 'Jamaica', 'Japan', 'Laos', 'Mexico', 'Nicaragua', 'Outlying-U S (Guam USVI etc)', 'Panama', 'Peru', 'Philippines', 'Poland', 'Portugal', 'Puerto-Rico', 'Scotland', 'South Korea', 'Taiwan', 'Thailand', 'Trinadad&Tobago', 'United-States', 'Vietnam', 'Yugoslavia']\n",
      "\n",
      "country_of_birth_mother:\n",
      "['?', 'Cambodia', 'Canada', 'China', 'Columbia', 'Cuba', 'Dominican-Republic', 'Ecuador', 'El-Salvador', 'England', 'France', 'Germany', 'Greece', 'Guatemala', 'Haiti', 'Holand-Netherlands', 'Honduras', 'Hong Kong', 'Hungary', 'India', 'Iran', 'Ireland', 'Italy', 'Jamaica', 'Japan', 'Laos', 'Mexico', 'Nicaragua', 'Outlying-U S (Guam USVI etc)', 'Panama', 'Peru', 'Philippines', 'Poland', 'Portugal', 'Puerto-Rico', 'Scotland', 'South Korea', 'Taiwan', 'Thailand', 'Trinadad&Tobago', 'United-States', 'Vietnam', 'Yugoslavia']\n",
      "\n",
      "country_of_birth_self:\n",
      "['?', 'Cambodia', 'Canada', 'China', 'Columbia', 'Cuba', 'Dominican-Republic', 'Ecuador', 'El-Salvador', 'England', 'France', 'Germany', 'Greece', 'Guatemala', 'Haiti', 'Holand-Netherlands', 'Honduras', 'Hong Kong', 'Hungary', 'India', 'Iran', 'Ireland', 'Italy', 'Jamaica', 'Japan', 'Laos', 'Mexico', 'Nicaragua', 'Outlying-U S (Guam USVI etc)', 'Panama', 'Peru', 'Philippines', 'Poland', 'Portugal', 'Puerto-Rico', 'Scotland', 'South Korea', 'Taiwan', 'Thailand', 'Trinadad&Tobago', 'United-States', 'Vietnam', 'Yugoslavia']\n",
      "\n",
      "citizenship:\n",
      "['Foreign born- Not a citizen of U S', 'Foreign born- U S citizen by naturalization', 'Native- Born abroad of American Parent(s)', 'Native- Born in Puerto Rico or U S Outlying', 'Native- Born in the United States']\n",
      "\n",
      "own_business_or_self_employed:\n",
      "['No', 'Not in universe', 'Yes']\n",
      "\n"
     ]
    }
   ],
   "source": [
    "for feature in nominal_cols:\n",
    "    print(feature+\":\")\n",
    "    print(sorted(df[feature].unique()))\n",
    "    print(\"\")"
   ]
  },
  {
   "cell_type": "markdown",
   "metadata": {},
   "source": [
    "One of the first things to notice is that for the country_of_birth_X columns, we have some missing values represented by \"?\". Dealing with missing values is a common thing to have to do in any data science project. Some typical methods for dealing with missing numerical values include mean imputation and median imputation. \n",
    "\n",
    "Think of a way to impute the missing values in this case for the categorical columns, country_of_birth_X. [Hint]()"
   ]
  },
  {
   "cell_type": "code",
   "execution_count": 14,
   "metadata": {},
   "outputs": [],
   "source": [
    "for feature in [\"country_of_birth_father\", \"country_of_birth_mother\", \"country_of_birth_self\"]:\n",
    "    # fill in the following line with some logic to replace \"?\" by the modal country of birth\n",
    "    df[feature] = df[feature].str.replace(\"?\", \"United-States\")"
   ]
  },
  {
   "cell_type": "markdown",
   "metadata": {},
   "source": [
    "Now if we look again at the values these three features can take, we should see that \"?\" is no longer an option."
   ]
  },
  {
   "cell_type": "code",
   "execution_count": 15,
   "metadata": {},
   "outputs": [
    {
     "name": "stdout",
     "output_type": "stream",
     "text": [
      "class_of_worker:\n",
      "['Federal government', 'Local government', 'Never worked', 'Not in universe', 'Private', 'Self-employed-incorporated', 'Self-employed-not incorporated', 'State government', 'Without pay']\n",
      "\n",
      "marital_status:\n",
      "['Divorced', 'Married-A F spouse present', 'Married-civilian spouse present', 'Married-spouse absent', 'Never married', 'Separated', 'Widowed']\n",
      "\n",
      "major_industry_code:\n",
      "['Agriculture', 'Armed Forces', 'Business and repair services', 'Communications', 'Construction', 'Education', 'Entertainment', 'Finance insurance and real estate', 'Forestry and fisheries', 'Hospital services', 'Manufacturing-durable goods', 'Manufacturing-nondurable goods', 'Medical except hospital', 'Mining', 'Not in universe or children', 'Other professional services', 'Personal services except private HH', 'Private household services', 'Public administration', 'Retail trade', 'Social services', 'Transportation', 'Utilities and sanitary services', 'Wholesale trade']\n",
      "\n",
      "major_occupation_code:\n",
      "['Adm support including clerical', 'Armed Forces', 'Executive admin and managerial', 'Farming forestry and fishing', 'Handlers equip cleaners etc', 'Machine operators assmblrs & inspctrs', 'Not in universe', 'Other service', 'Precision production craft & repair', 'Private household services', 'Professional specialty', 'Protective services', 'Sales', 'Technicians and related support', 'Transportation and material moving']\n",
      "\n",
      "race:\n",
      "['Amer Indian Aleut or Eskimo', 'Asian or Pacific Islander', 'Black', 'Other', 'White']\n",
      "\n",
      "sex:\n",
      "['Female', 'Male']\n",
      "\n",
      "full_or_part_time_employment_stat:\n",
      "['Children or Armed Forces', 'Full-time schedules', 'Not in labor force', 'PT for econ reasons usually FT', 'PT for econ reasons usually PT', 'PT for non-econ reasons usually FT', 'Unemployed full-time', 'Unemployed part- time']\n",
      "\n",
      "live_in_this_house_1_year_ago:\n",
      "['No', 'Not in universe under 1 year old', 'Yes']\n",
      "\n",
      "total_person_earnings:\n",
      "['Both parents present', 'Father only present', 'Mother only present', 'Neither parent present', 'Not in universe']\n",
      "\n",
      "country_of_birth_father:\n",
      "['Cambodia', 'Canada', 'China', 'Columbia', 'Cuba', 'Dominican-Republic', 'Ecuador', 'El-Salvador', 'England', 'France', 'Germany', 'Greece', 'Guatemala', 'Haiti', 'Holand-Netherlands', 'Honduras', 'Hong Kong', 'Hungary', 'India', 'Iran', 'Ireland', 'Italy', 'Jamaica', 'Japan', 'Laos', 'Mexico', 'Nicaragua', 'Outlying-U S (Guam USVI etc)', 'Panama', 'Peru', 'Philippines', 'Poland', 'Portugal', 'Puerto-Rico', 'Scotland', 'South Korea', 'Taiwan', 'Thailand', 'Trinadad&Tobago', 'United-States', 'Vietnam', 'Yugoslavia']\n",
      "\n",
      "country_of_birth_mother:\n",
      "['Cambodia', 'Canada', 'China', 'Columbia', 'Cuba', 'Dominican-Republic', 'Ecuador', 'El-Salvador', 'England', 'France', 'Germany', 'Greece', 'Guatemala', 'Haiti', 'Holand-Netherlands', 'Honduras', 'Hong Kong', 'Hungary', 'India', 'Iran', 'Ireland', 'Italy', 'Jamaica', 'Japan', 'Laos', 'Mexico', 'Nicaragua', 'Outlying-U S (Guam USVI etc)', 'Panama', 'Peru', 'Philippines', 'Poland', 'Portugal', 'Puerto-Rico', 'Scotland', 'South Korea', 'Taiwan', 'Thailand', 'Trinadad&Tobago', 'United-States', 'Vietnam', 'Yugoslavia']\n",
      "\n",
      "country_of_birth_self:\n",
      "['Cambodia', 'Canada', 'China', 'Columbia', 'Cuba', 'Dominican-Republic', 'Ecuador', 'El-Salvador', 'England', 'France', 'Germany', 'Greece', 'Guatemala', 'Haiti', 'Holand-Netherlands', 'Honduras', 'Hong Kong', 'Hungary', 'India', 'Iran', 'Ireland', 'Italy', 'Jamaica', 'Japan', 'Laos', 'Mexico', 'Nicaragua', 'Outlying-U S (Guam USVI etc)', 'Panama', 'Peru', 'Philippines', 'Poland', 'Portugal', 'Puerto-Rico', 'Scotland', 'South Korea', 'Taiwan', 'Thailand', 'Trinadad&Tobago', 'United-States', 'Vietnam', 'Yugoslavia']\n",
      "\n",
      "citizenship:\n",
      "['Foreign born- Not a citizen of U S', 'Foreign born- U S citizen by naturalization', 'Native- Born abroad of American Parent(s)', 'Native- Born in Puerto Rico or U S Outlying', 'Native- Born in the United States']\n",
      "\n",
      "own_business_or_self_employed:\n",
      "['No', 'Not in universe', 'Yes']\n",
      "\n"
     ]
    }
   ],
   "source": [
    "for feature in nominal_cols:\n",
    "    print(feature+\":\")\n",
    "    print(sorted(df[feature].unique()))\n",
    "    print(\"\")"
   ]
  },
  {
   "cell_type": "markdown",
   "metadata": {},
   "source": [
    "Notice that some form of \"Not in universe\" comes up a lot for missing values in the different fields. When we use transformers later on, it would be useful to be able to handle all of these in the same way. So as another preprocessing step, change all instances containing \"Not in universe\" to \"null\"."
   ]
  },
  {
   "cell_type": "code",
   "execution_count": 16,
   "metadata": {},
   "outputs": [],
   "source": [
    "df = df.replace(\"Not in universe\", \"null\").replace(\"Not in universe or children\", \"null\")\\\n",
    "                                          .replace(\"Not in universe under 1 year old\", \"null\")"
   ]
  },
  {
   "cell_type": "code",
   "execution_count": 17,
   "metadata": {},
   "outputs": [
    {
     "name": "stdout",
     "output_type": "stream",
     "text": [
      "class_of_worker:\n",
      "['Federal government', 'Local government', 'Never worked', 'Private', 'Self-employed-incorporated', 'Self-employed-not incorporated', 'State government', 'Without pay', 'null']\n",
      "\n",
      "marital_status:\n",
      "['Divorced', 'Married-A F spouse present', 'Married-civilian spouse present', 'Married-spouse absent', 'Never married', 'Separated', 'Widowed']\n",
      "\n",
      "major_industry_code:\n",
      "['Agriculture', 'Armed Forces', 'Business and repair services', 'Communications', 'Construction', 'Education', 'Entertainment', 'Finance insurance and real estate', 'Forestry and fisheries', 'Hospital services', 'Manufacturing-durable goods', 'Manufacturing-nondurable goods', 'Medical except hospital', 'Mining', 'Other professional services', 'Personal services except private HH', 'Private household services', 'Public administration', 'Retail trade', 'Social services', 'Transportation', 'Utilities and sanitary services', 'Wholesale trade', 'null']\n",
      "\n",
      "major_occupation_code:\n",
      "['Adm support including clerical', 'Armed Forces', 'Executive admin and managerial', 'Farming forestry and fishing', 'Handlers equip cleaners etc', 'Machine operators assmblrs & inspctrs', 'Other service', 'Precision production craft & repair', 'Private household services', 'Professional specialty', 'Protective services', 'Sales', 'Technicians and related support', 'Transportation and material moving', 'null']\n",
      "\n",
      "race:\n",
      "['Amer Indian Aleut or Eskimo', 'Asian or Pacific Islander', 'Black', 'Other', 'White']\n",
      "\n",
      "sex:\n",
      "['Female', 'Male']\n",
      "\n",
      "full_or_part_time_employment_stat:\n",
      "['Children or Armed Forces', 'Full-time schedules', 'Not in labor force', 'PT for econ reasons usually FT', 'PT for econ reasons usually PT', 'PT for non-econ reasons usually FT', 'Unemployed full-time', 'Unemployed part- time']\n",
      "\n",
      "live_in_this_house_1_year_ago:\n",
      "['No', 'Yes', 'null']\n",
      "\n",
      "total_person_earnings:\n",
      "['Both parents present', 'Father only present', 'Mother only present', 'Neither parent present', 'null']\n",
      "\n",
      "country_of_birth_father:\n",
      "['Cambodia', 'Canada', 'China', 'Columbia', 'Cuba', 'Dominican-Republic', 'Ecuador', 'El-Salvador', 'England', 'France', 'Germany', 'Greece', 'Guatemala', 'Haiti', 'Holand-Netherlands', 'Honduras', 'Hong Kong', 'Hungary', 'India', 'Iran', 'Ireland', 'Italy', 'Jamaica', 'Japan', 'Laos', 'Mexico', 'Nicaragua', 'Outlying-U S (Guam USVI etc)', 'Panama', 'Peru', 'Philippines', 'Poland', 'Portugal', 'Puerto-Rico', 'Scotland', 'South Korea', 'Taiwan', 'Thailand', 'Trinadad&Tobago', 'United-States', 'Vietnam', 'Yugoslavia']\n",
      "\n",
      "country_of_birth_mother:\n",
      "['Cambodia', 'Canada', 'China', 'Columbia', 'Cuba', 'Dominican-Republic', 'Ecuador', 'El-Salvador', 'England', 'France', 'Germany', 'Greece', 'Guatemala', 'Haiti', 'Holand-Netherlands', 'Honduras', 'Hong Kong', 'Hungary', 'India', 'Iran', 'Ireland', 'Italy', 'Jamaica', 'Japan', 'Laos', 'Mexico', 'Nicaragua', 'Outlying-U S (Guam USVI etc)', 'Panama', 'Peru', 'Philippines', 'Poland', 'Portugal', 'Puerto-Rico', 'Scotland', 'South Korea', 'Taiwan', 'Thailand', 'Trinadad&Tobago', 'United-States', 'Vietnam', 'Yugoslavia']\n",
      "\n",
      "country_of_birth_self:\n",
      "['Cambodia', 'Canada', 'China', 'Columbia', 'Cuba', 'Dominican-Republic', 'Ecuador', 'El-Salvador', 'England', 'France', 'Germany', 'Greece', 'Guatemala', 'Haiti', 'Holand-Netherlands', 'Honduras', 'Hong Kong', 'Hungary', 'India', 'Iran', 'Ireland', 'Italy', 'Jamaica', 'Japan', 'Laos', 'Mexico', 'Nicaragua', 'Outlying-U S (Guam USVI etc)', 'Panama', 'Peru', 'Philippines', 'Poland', 'Portugal', 'Puerto-Rico', 'Scotland', 'South Korea', 'Taiwan', 'Thailand', 'Trinadad&Tobago', 'United-States', 'Vietnam', 'Yugoslavia']\n",
      "\n",
      "citizenship:\n",
      "['Foreign born- Not a citizen of U S', 'Foreign born- U S citizen by naturalization', 'Native- Born abroad of American Parent(s)', 'Native- Born in Puerto Rico or U S Outlying', 'Native- Born in the United States']\n",
      "\n",
      "own_business_or_self_employed:\n",
      "['No', 'Yes', 'null']\n",
      "\n"
     ]
    }
   ],
   "source": [
    "for feature in nominal_cols:\n",
    "    print(feature+\":\")\n",
    "    print(sorted(df[feature].unique()))\n",
    "    print(\"\")"
   ]
  },
  {
   "cell_type": "markdown",
   "metadata": {},
   "source": [
    "---\n",
    "\n",
    "### 3. Feature generation\n",
    "Now that we see all the possible values which each nominal feature can take, we need to decide on how to handle them. \n",
    "\n",
    "For some features, we may wish to convert them into binary variables, such as own_business_or_self_employed, yes or not yes. \n",
    "\n",
    "For others, such as for each country_of_birth_{}, we might wish to binarize these to something like from \"United-States\", yes or no? \n",
    "\n",
    "Other features should not be binarized, such as marital_status, and we will have to use [one-hot encoding](https://scikit-learn.org/stable/modules/generated/sklearn.preprocessing.OneHotEncoder.html).\n",
    "\n",
    "**Challenge**: come up with a strategy to encode the following columns as binary variables: \n",
    "\n",
    "\\[ sex, live_in_this_house_1_year_ago,  country_of_birth_father,  country_of_birth_mother,  country_of_birth_self,  own_business_or_self_employed \\]"
   ]
  },
  {
   "cell_type": "code",
   "execution_count": 18,
   "metadata": {},
   "outputs": [],
   "source": [
    "df[\"is_male\"] = np.where(df['sex']==\"Male\", 1, 0)\n",
    "df[\"is_lived_in_this_house_1_year_ago\"]=np.where(df['live_in_this_house_1_year_ago']==\"Yes\", 1, 0)\n",
    "df[\"born_usa_father\"] = np.where(df['country_of_birth_father']==\"United-States\", 1, 0)\n",
    "df[\"born_usa_mother\"] = np.where(df['country_of_birth_mother']==\"United-States\", 1, 0)\n",
    "df[\"born_usa_self\"]   = np.where(df['country_of_birth_self']==\"United-States\", 1, 0)\n",
    "df[\"is_self_employed\"]= np.where(df['own_business_or_self_employed']==\"Yes\", 1, 0)\n"
   ]
  },
  {
   "cell_type": "markdown",
   "metadata": {},
   "source": [
    "Now drop the columns we no longer need."
   ]
  },
  {
   "cell_type": "code",
   "execution_count": 19,
   "metadata": {},
   "outputs": [],
   "source": [
    "drop_cols = [\"sex\", \"live_in_this_house_1_year_ago\", \"country_of_birth_father\",\n",
    "            \"country_of_birth_mother\", \"country_of_birth_self\", \"own_business_or_self_employed\"]\n",
    "df = df.drop(columns = drop_cols)"
   ]
  },
  {
   "cell_type": "code",
   "execution_count": 20,
   "metadata": {},
   "outputs": [
    {
     "data": {
      "text/html": [
       "<div>\n",
       "<style scoped>\n",
       "    .dataframe tbody tr th:only-of-type {\n",
       "        vertical-align: middle;\n",
       "    }\n",
       "\n",
       "    .dataframe tbody tr th {\n",
       "        vertical-align: top;\n",
       "    }\n",
       "\n",
       "    .dataframe thead th {\n",
       "        text-align: right;\n",
       "    }\n",
       "</style>\n",
       "<table border=\"1\" class=\"dataframe\">\n",
       "  <thead>\n",
       "    <tr style=\"text-align: right;\">\n",
       "      <th></th>\n",
       "      <th>age</th>\n",
       "      <th>class_of_worker</th>\n",
       "      <th>education</th>\n",
       "      <th>wage_per_hour</th>\n",
       "      <th>marital_status</th>\n",
       "      <th>major_industry_code</th>\n",
       "      <th>major_occupation_code</th>\n",
       "      <th>race</th>\n",
       "      <th>full_or_part_time_employment_stat</th>\n",
       "      <th>capital_gains</th>\n",
       "      <th>capital_losses</th>\n",
       "      <th>divdends_from_stocks</th>\n",
       "      <th>family_members_under</th>\n",
       "      <th>total_person_earnings</th>\n",
       "      <th>citizenship</th>\n",
       "      <th>weeks_worked</th>\n",
       "      <th>earn_over_50k</th>\n",
       "      <th>is_male</th>\n",
       "      <th>is_lived_in_this_house_1_year_ago</th>\n",
       "      <th>born_usa_father</th>\n",
       "      <th>born_usa_mother</th>\n",
       "      <th>born_usa_self</th>\n",
       "      <th>is_self_employed</th>\n",
       "    </tr>\n",
       "  </thead>\n",
       "  <tbody>\n",
       "    <tr>\n",
       "      <th>0</th>\n",
       "      <td>73</td>\n",
       "      <td>null</td>\n",
       "      <td>High school graduate</td>\n",
       "      <td>0</td>\n",
       "      <td>Widowed</td>\n",
       "      <td>null</td>\n",
       "      <td>null</td>\n",
       "      <td>White</td>\n",
       "      <td>Not in labor force</td>\n",
       "      <td>0</td>\n",
       "      <td>0</td>\n",
       "      <td>0</td>\n",
       "      <td>0</td>\n",
       "      <td>null</td>\n",
       "      <td>Native- Born in the United States</td>\n",
       "      <td>0</td>\n",
       "      <td>-50000</td>\n",
       "      <td>0</td>\n",
       "      <td>0</td>\n",
       "      <td>1</td>\n",
       "      <td>1</td>\n",
       "      <td>1</td>\n",
       "      <td>0</td>\n",
       "    </tr>\n",
       "    <tr>\n",
       "      <th>1</th>\n",
       "      <td>58</td>\n",
       "      <td>Self-employed-not incorporated</td>\n",
       "      <td>Some college but no degree</td>\n",
       "      <td>0</td>\n",
       "      <td>Divorced</td>\n",
       "      <td>Construction</td>\n",
       "      <td>Precision production craft &amp; repair</td>\n",
       "      <td>White</td>\n",
       "      <td>Children or Armed Forces</td>\n",
       "      <td>0</td>\n",
       "      <td>0</td>\n",
       "      <td>0</td>\n",
       "      <td>1</td>\n",
       "      <td>null</td>\n",
       "      <td>Native- Born in the United States</td>\n",
       "      <td>52</td>\n",
       "      <td>-50000</td>\n",
       "      <td>1</td>\n",
       "      <td>0</td>\n",
       "      <td>1</td>\n",
       "      <td>1</td>\n",
       "      <td>1</td>\n",
       "      <td>0</td>\n",
       "    </tr>\n",
       "    <tr>\n",
       "      <th>2</th>\n",
       "      <td>18</td>\n",
       "      <td>null</td>\n",
       "      <td>10th grade</td>\n",
       "      <td>0</td>\n",
       "      <td>Never married</td>\n",
       "      <td>null</td>\n",
       "      <td>null</td>\n",
       "      <td>Asian or Pacific Islander</td>\n",
       "      <td>Not in labor force</td>\n",
       "      <td>0</td>\n",
       "      <td>0</td>\n",
       "      <td>0</td>\n",
       "      <td>0</td>\n",
       "      <td>null</td>\n",
       "      <td>Foreign born- Not a citizen of U S</td>\n",
       "      <td>0</td>\n",
       "      <td>-50000</td>\n",
       "      <td>0</td>\n",
       "      <td>0</td>\n",
       "      <td>0</td>\n",
       "      <td>0</td>\n",
       "      <td>0</td>\n",
       "      <td>0</td>\n",
       "    </tr>\n",
       "    <tr>\n",
       "      <th>3</th>\n",
       "      <td>9</td>\n",
       "      <td>null</td>\n",
       "      <td>Children</td>\n",
       "      <td>0</td>\n",
       "      <td>Never married</td>\n",
       "      <td>null</td>\n",
       "      <td>null</td>\n",
       "      <td>White</td>\n",
       "      <td>Children or Armed Forces</td>\n",
       "      <td>0</td>\n",
       "      <td>0</td>\n",
       "      <td>0</td>\n",
       "      <td>0</td>\n",
       "      <td>Both parents present</td>\n",
       "      <td>Native- Born in the United States</td>\n",
       "      <td>0</td>\n",
       "      <td>-50000</td>\n",
       "      <td>0</td>\n",
       "      <td>1</td>\n",
       "      <td>1</td>\n",
       "      <td>1</td>\n",
       "      <td>1</td>\n",
       "      <td>0</td>\n",
       "    </tr>\n",
       "    <tr>\n",
       "      <th>4</th>\n",
       "      <td>10</td>\n",
       "      <td>null</td>\n",
       "      <td>Children</td>\n",
       "      <td>0</td>\n",
       "      <td>Never married</td>\n",
       "      <td>null</td>\n",
       "      <td>null</td>\n",
       "      <td>White</td>\n",
       "      <td>Children or Armed Forces</td>\n",
       "      <td>0</td>\n",
       "      <td>0</td>\n",
       "      <td>0</td>\n",
       "      <td>0</td>\n",
       "      <td>Both parents present</td>\n",
       "      <td>Native- Born in the United States</td>\n",
       "      <td>0</td>\n",
       "      <td>-50000</td>\n",
       "      <td>0</td>\n",
       "      <td>1</td>\n",
       "      <td>1</td>\n",
       "      <td>1</td>\n",
       "      <td>1</td>\n",
       "      <td>0</td>\n",
       "    </tr>\n",
       "  </tbody>\n",
       "</table>\n",
       "</div>"
      ],
      "text/plain": [
       "   age                 class_of_worker                   education  wage_per_hour marital_status major_industry_code                major_occupation_code                       race full_or_part_time_employment_stat  capital_gains  capital_losses  divdends_from_stocks  family_members_under total_person_earnings                         citizenship  weeks_worked earn_over_50k  is_male  is_lived_in_this_house_1_year_ago  born_usa_father  born_usa_mother  born_usa_self  is_self_employed\n",
       "0   73                            null        High school graduate              0        Widowed                null                                 null                      White                Not in labor force              0               0                     0                     0                  null   Native- Born in the United States             0        -50000        0                                  0                1                1              1                 0\n",
       "1   58  Self-employed-not incorporated  Some college but no degree              0       Divorced        Construction  Precision production craft & repair                      White          Children or Armed Forces              0               0                     0                     1                  null   Native- Born in the United States            52        -50000        1                                  0                1                1              1                 0\n",
       "2   18                            null                  10th grade              0  Never married                null                                 null  Asian or Pacific Islander                Not in labor force              0               0                     0                     0                  null  Foreign born- Not a citizen of U S             0        -50000        0                                  0                0                0              0                 0\n",
       "3    9                            null                    Children              0  Never married                null                                 null                      White          Children or Armed Forces              0               0                     0                     0  Both parents present   Native- Born in the United States             0        -50000        0                                  1                1                1              1                 0\n",
       "4   10                            null                    Children              0  Never married                null                                 null                      White          Children or Armed Forces              0               0                     0                     0  Both parents present   Native- Born in the United States             0        -50000        0                                  1                1                1              1                 0"
      ]
     },
     "execution_count": 20,
     "metadata": {},
     "output_type": "execute_result"
    }
   ],
   "source": [
    "df.head()"
   ]
  },
  {
   "cell_type": "markdown",
   "metadata": {},
   "source": [
    "Now we have manually dealt with some of the nominal_cols, we can disguard them from the list of nominal columns we were dealing with. To do this, we make use of sets. \n",
    "\n",
    "The remaining nominal_cols will need to be one-hot encoded. \n"
   ]
  },
  {
   "cell_type": "code",
   "execution_count": 21,
   "metadata": {},
   "outputs": [],
   "source": [
    "remaining_nominal_cols = list(set(nominal_cols)-set(drop_cols))"
   ]
  },
  {
   "cell_type": "code",
   "execution_count": 22,
   "metadata": {},
   "outputs": [
    {
     "data": {
      "text/plain": [
       "['race',\n",
       " 'citizenship',\n",
       " 'class_of_worker',\n",
       " 'total_person_earnings',\n",
       " 'marital_status',\n",
       " 'major_occupation_code',\n",
       " 'major_industry_code',\n",
       " 'full_or_part_time_employment_stat']"
      ]
     },
     "execution_count": 22,
     "metadata": {},
     "output_type": "execute_result"
    }
   ],
   "source": [
    "remaining_nominal_cols"
   ]
  },
  {
   "cell_type": "markdown",
   "metadata": {},
   "source": [
    "---\n",
    "##### Ordinal features\n",
    "*To deal with ordinal values, we need to do a little more.\n",
    "First we need to create an order and map that order to increasing integers which represent that order. Let's take a look at the values education can take.*"
   ]
  },
  {
   "cell_type": "code",
   "execution_count": 23,
   "metadata": {},
   "outputs": [
    {
     "data": {
      "text/plain": [
       "['10th grade',\n",
       " '11th grade',\n",
       " '12th grade no diploma',\n",
       " '1st 2nd 3rd or 4th grade',\n",
       " '5th or 6th grade',\n",
       " '7th and 8th grade',\n",
       " '9th grade',\n",
       " 'Associates degree-academic program',\n",
       " 'Associates degree-occup /vocational',\n",
       " 'Bachelors degree(BA AB BS)',\n",
       " 'Children',\n",
       " 'Doctorate degree(PhD EdD)',\n",
       " 'High school graduate',\n",
       " 'Less than 1st grade',\n",
       " 'Masters degree(MA MS MEng MEd MSW MBA)',\n",
       " 'Prof school degree (MD DDS DVM LLB JD)',\n",
       " 'Some college but no degree']"
      ]
     },
     "execution_count": 23,
     "metadata": {},
     "output_type": "execute_result"
    }
   ],
   "source": [
    "sorted(df.education.unique())"
   ]
  },
  {
   "cell_type": "markdown",
   "metadata": {},
   "source": [
    "*Clearly there is some kind of order to this. Completing 10th grade is better than completing 9th grade, having a phd is better than having a masters, etc.*\n",
    "\n",
    "*Let's try and put some kind of order to the elements in that list in the form of a dictionary, with the least advanced education starting at 0, and the most advanced education being the greatest number.*\n",
    "\n",
    "*The benefit of the dictionary is that different keys can have the same value, thus if you think 2 different educations are equal, you can assign them the same value.*"
   ]
  },
  {
   "cell_type": "code",
   "execution_count": 24,
   "metadata": {},
   "outputs": [],
   "source": [
    "# Complete the dictionary to reasonably encapsulate the order in the data\n",
    "education_dict = {'Children':0,\n",
    "                 'Less than 1st grade':1,\n",
    "                 '1st 2nd 3rd or 4th grade':2,\n",
    "                 '5th or 6th grade':3,\n",
    "                 '7th and 8th grade':4,\n",
    "                 '9th grade':5,\n",
    "                 '10th grade':6,\n",
    "                 '11th grade':7,\n",
    "                 '12th grade no diploma':8,\n",
    "                 'High school graduate':9,\n",
    "                 'Some college but no degree':10,\n",
    "                 'Associates degree-academic program':11,\n",
    "                 'Associates degree-occup /vocational':11,\n",
    "                 'Bachelors degree(BA AB BS)':12,\n",
    "                 'Prof school degree (MD DDS DVM LLB JD)':13,\n",
    "                 'Masters degree(MA MS MEng MEd MSW MBA)':13,\n",
    "                 'Doctorate degree(PhD EdD)':14}"
   ]
  },
  {
   "cell_type": "markdown",
   "metadata": {},
   "source": [
    "*Now we can use the [pandas.Series.map](https://pandas.pydata.org/pandas-docs/stable/reference/api/pandas.Series.map.html) function to map these categorical values to numerically ordered ones.*"
   ]
  },
  {
   "cell_type": "code",
   "execution_count": 25,
   "metadata": {},
   "outputs": [],
   "source": [
    "df[\"education\"] = df[\"education\"].map(education_dict)"
   ]
  },
  {
   "cell_type": "code",
   "execution_count": 26,
   "metadata": {},
   "outputs": [
    {
     "data": {
      "text/html": [
       "<div>\n",
       "<style scoped>\n",
       "    .dataframe tbody tr th:only-of-type {\n",
       "        vertical-align: middle;\n",
       "    }\n",
       "\n",
       "    .dataframe tbody tr th {\n",
       "        vertical-align: top;\n",
       "    }\n",
       "\n",
       "    .dataframe thead th {\n",
       "        text-align: right;\n",
       "    }\n",
       "</style>\n",
       "<table border=\"1\" class=\"dataframe\">\n",
       "  <thead>\n",
       "    <tr style=\"text-align: right;\">\n",
       "      <th></th>\n",
       "      <th>age</th>\n",
       "      <th>class_of_worker</th>\n",
       "      <th>education</th>\n",
       "      <th>wage_per_hour</th>\n",
       "      <th>marital_status</th>\n",
       "      <th>major_industry_code</th>\n",
       "      <th>major_occupation_code</th>\n",
       "      <th>race</th>\n",
       "      <th>full_or_part_time_employment_stat</th>\n",
       "      <th>capital_gains</th>\n",
       "      <th>capital_losses</th>\n",
       "      <th>divdends_from_stocks</th>\n",
       "      <th>family_members_under</th>\n",
       "      <th>total_person_earnings</th>\n",
       "      <th>citizenship</th>\n",
       "      <th>weeks_worked</th>\n",
       "      <th>earn_over_50k</th>\n",
       "      <th>is_male</th>\n",
       "      <th>is_lived_in_this_house_1_year_ago</th>\n",
       "      <th>born_usa_father</th>\n",
       "      <th>born_usa_mother</th>\n",
       "      <th>born_usa_self</th>\n",
       "      <th>is_self_employed</th>\n",
       "    </tr>\n",
       "  </thead>\n",
       "  <tbody>\n",
       "    <tr>\n",
       "      <th>0</th>\n",
       "      <td>73</td>\n",
       "      <td>null</td>\n",
       "      <td>9</td>\n",
       "      <td>0</td>\n",
       "      <td>Widowed</td>\n",
       "      <td>null</td>\n",
       "      <td>null</td>\n",
       "      <td>White</td>\n",
       "      <td>Not in labor force</td>\n",
       "      <td>0</td>\n",
       "      <td>0</td>\n",
       "      <td>0</td>\n",
       "      <td>0</td>\n",
       "      <td>null</td>\n",
       "      <td>Native- Born in the United States</td>\n",
       "      <td>0</td>\n",
       "      <td>-50000</td>\n",
       "      <td>0</td>\n",
       "      <td>0</td>\n",
       "      <td>1</td>\n",
       "      <td>1</td>\n",
       "      <td>1</td>\n",
       "      <td>0</td>\n",
       "    </tr>\n",
       "    <tr>\n",
       "      <th>1</th>\n",
       "      <td>58</td>\n",
       "      <td>Self-employed-not incorporated</td>\n",
       "      <td>10</td>\n",
       "      <td>0</td>\n",
       "      <td>Divorced</td>\n",
       "      <td>Construction</td>\n",
       "      <td>Precision production craft &amp; repair</td>\n",
       "      <td>White</td>\n",
       "      <td>Children or Armed Forces</td>\n",
       "      <td>0</td>\n",
       "      <td>0</td>\n",
       "      <td>0</td>\n",
       "      <td>1</td>\n",
       "      <td>null</td>\n",
       "      <td>Native- Born in the United States</td>\n",
       "      <td>52</td>\n",
       "      <td>-50000</td>\n",
       "      <td>1</td>\n",
       "      <td>0</td>\n",
       "      <td>1</td>\n",
       "      <td>1</td>\n",
       "      <td>1</td>\n",
       "      <td>0</td>\n",
       "    </tr>\n",
       "    <tr>\n",
       "      <th>2</th>\n",
       "      <td>18</td>\n",
       "      <td>null</td>\n",
       "      <td>6</td>\n",
       "      <td>0</td>\n",
       "      <td>Never married</td>\n",
       "      <td>null</td>\n",
       "      <td>null</td>\n",
       "      <td>Asian or Pacific Islander</td>\n",
       "      <td>Not in labor force</td>\n",
       "      <td>0</td>\n",
       "      <td>0</td>\n",
       "      <td>0</td>\n",
       "      <td>0</td>\n",
       "      <td>null</td>\n",
       "      <td>Foreign born- Not a citizen of U S</td>\n",
       "      <td>0</td>\n",
       "      <td>-50000</td>\n",
       "      <td>0</td>\n",
       "      <td>0</td>\n",
       "      <td>0</td>\n",
       "      <td>0</td>\n",
       "      <td>0</td>\n",
       "      <td>0</td>\n",
       "    </tr>\n",
       "    <tr>\n",
       "      <th>3</th>\n",
       "      <td>9</td>\n",
       "      <td>null</td>\n",
       "      <td>0</td>\n",
       "      <td>0</td>\n",
       "      <td>Never married</td>\n",
       "      <td>null</td>\n",
       "      <td>null</td>\n",
       "      <td>White</td>\n",
       "      <td>Children or Armed Forces</td>\n",
       "      <td>0</td>\n",
       "      <td>0</td>\n",
       "      <td>0</td>\n",
       "      <td>0</td>\n",
       "      <td>Both parents present</td>\n",
       "      <td>Native- Born in the United States</td>\n",
       "      <td>0</td>\n",
       "      <td>-50000</td>\n",
       "      <td>0</td>\n",
       "      <td>1</td>\n",
       "      <td>1</td>\n",
       "      <td>1</td>\n",
       "      <td>1</td>\n",
       "      <td>0</td>\n",
       "    </tr>\n",
       "    <tr>\n",
       "      <th>4</th>\n",
       "      <td>10</td>\n",
       "      <td>null</td>\n",
       "      <td>0</td>\n",
       "      <td>0</td>\n",
       "      <td>Never married</td>\n",
       "      <td>null</td>\n",
       "      <td>null</td>\n",
       "      <td>White</td>\n",
       "      <td>Children or Armed Forces</td>\n",
       "      <td>0</td>\n",
       "      <td>0</td>\n",
       "      <td>0</td>\n",
       "      <td>0</td>\n",
       "      <td>Both parents present</td>\n",
       "      <td>Native- Born in the United States</td>\n",
       "      <td>0</td>\n",
       "      <td>-50000</td>\n",
       "      <td>0</td>\n",
       "      <td>1</td>\n",
       "      <td>1</td>\n",
       "      <td>1</td>\n",
       "      <td>1</td>\n",
       "      <td>0</td>\n",
       "    </tr>\n",
       "  </tbody>\n",
       "</table>\n",
       "</div>"
      ],
      "text/plain": [
       "   age                 class_of_worker  education  wage_per_hour marital_status major_industry_code                major_occupation_code                       race full_or_part_time_employment_stat  capital_gains  capital_losses  divdends_from_stocks  family_members_under total_person_earnings                         citizenship  weeks_worked earn_over_50k  is_male  is_lived_in_this_house_1_year_ago  born_usa_father  born_usa_mother  born_usa_self  is_self_employed\n",
       "0   73                            null          9              0        Widowed                null                                 null                      White                Not in labor force              0               0                     0                     0                  null   Native- Born in the United States             0        -50000        0                                  0                1                1              1                 0\n",
       "1   58  Self-employed-not incorporated         10              0       Divorced        Construction  Precision production craft & repair                      White          Children or Armed Forces              0               0                     0                     1                  null   Native- Born in the United States            52        -50000        1                                  0                1                1              1                 0\n",
       "2   18                            null          6              0  Never married                null                                 null  Asian or Pacific Islander                Not in labor force              0               0                     0                     0                  null  Foreign born- Not a citizen of U S             0        -50000        0                                  0                0                0              0                 0\n",
       "3    9                            null          0              0  Never married                null                                 null                      White          Children or Armed Forces              0               0                     0                     0  Both parents present   Native- Born in the United States             0        -50000        0                                  1                1                1              1                 0\n",
       "4   10                            null          0              0  Never married                null                                 null                      White          Children or Armed Forces              0               0                     0                     0  Both parents present   Native- Born in the United States             0        -50000        0                                  1                1                1              1                 0"
      ]
     },
     "execution_count": 26,
     "metadata": {},
     "output_type": "execute_result"
    }
   ],
   "source": [
    "df.head()"
   ]
  },
  {
   "cell_type": "markdown",
   "metadata": {},
   "source": [
    "---\n",
    "##### Ratio features\n",
    "*We will, however, be considering the ratio columns. Given that the ratio columns have different scales which can skew the model massively in favour of a particular feature, we should apply some technique to mitigate this. \n",
    "A typical technique to use is to scale each of the features so that they are on the same scale, usualy the interval [0,1].\n",
    "To do this we can use min-max scaler in sklearn.*"
   ]
  },
  {
   "cell_type": "markdown",
   "metadata": {},
   "source": [
    "##### Target feature\n",
    "\n",
    "*For the rest of the notebook and analysis, we shall keep the target variable separate from the other variables. We will also transform this variable to a binary varable with 1 representing those earning over 50k.*"
   ]
  },
  {
   "cell_type": "code",
   "execution_count": 27,
   "metadata": {},
   "outputs": [],
   "source": [
    "target = np.where(df[\"earn_over_50k\"]==\"-50000\", 0, 1)"
   ]
  },
  {
   "cell_type": "markdown",
   "metadata": {},
   "source": [
    "##### Combining all the features together with transformers"
   ]
  },
  {
   "cell_type": "code",
   "execution_count": 28,
   "metadata": {},
   "outputs": [
    {
     "data": {
      "text/html": [
       "<div>\n",
       "<style scoped>\n",
       "    .dataframe tbody tr th:only-of-type {\n",
       "        vertical-align: middle;\n",
       "    }\n",
       "\n",
       "    .dataframe tbody tr th {\n",
       "        vertical-align: top;\n",
       "    }\n",
       "\n",
       "    .dataframe thead th {\n",
       "        text-align: right;\n",
       "    }\n",
       "</style>\n",
       "<table border=\"1\" class=\"dataframe\">\n",
       "  <thead>\n",
       "    <tr style=\"text-align: right;\">\n",
       "      <th></th>\n",
       "      <th>age</th>\n",
       "      <th>class_of_worker</th>\n",
       "      <th>education</th>\n",
       "      <th>wage_per_hour</th>\n",
       "      <th>marital_status</th>\n",
       "      <th>major_industry_code</th>\n",
       "      <th>major_occupation_code</th>\n",
       "      <th>race</th>\n",
       "      <th>full_or_part_time_employment_stat</th>\n",
       "      <th>capital_gains</th>\n",
       "      <th>capital_losses</th>\n",
       "      <th>divdends_from_stocks</th>\n",
       "      <th>family_members_under</th>\n",
       "      <th>total_person_earnings</th>\n",
       "      <th>citizenship</th>\n",
       "      <th>weeks_worked</th>\n",
       "      <th>earn_over_50k</th>\n",
       "      <th>is_male</th>\n",
       "      <th>is_lived_in_this_house_1_year_ago</th>\n",
       "      <th>born_usa_father</th>\n",
       "      <th>born_usa_mother</th>\n",
       "      <th>born_usa_self</th>\n",
       "      <th>is_self_employed</th>\n",
       "    </tr>\n",
       "  </thead>\n",
       "  <tbody>\n",
       "    <tr>\n",
       "      <th>0</th>\n",
       "      <td>73</td>\n",
       "      <td>null</td>\n",
       "      <td>9</td>\n",
       "      <td>0</td>\n",
       "      <td>Widowed</td>\n",
       "      <td>null</td>\n",
       "      <td>null</td>\n",
       "      <td>White</td>\n",
       "      <td>Not in labor force</td>\n",
       "      <td>0</td>\n",
       "      <td>0</td>\n",
       "      <td>0</td>\n",
       "      <td>0</td>\n",
       "      <td>null</td>\n",
       "      <td>Native- Born in the United States</td>\n",
       "      <td>0</td>\n",
       "      <td>-50000</td>\n",
       "      <td>0</td>\n",
       "      <td>0</td>\n",
       "      <td>1</td>\n",
       "      <td>1</td>\n",
       "      <td>1</td>\n",
       "      <td>0</td>\n",
       "    </tr>\n",
       "    <tr>\n",
       "      <th>1</th>\n",
       "      <td>58</td>\n",
       "      <td>Self-employed-not incorporated</td>\n",
       "      <td>10</td>\n",
       "      <td>0</td>\n",
       "      <td>Divorced</td>\n",
       "      <td>Construction</td>\n",
       "      <td>Precision production craft &amp; repair</td>\n",
       "      <td>White</td>\n",
       "      <td>Children or Armed Forces</td>\n",
       "      <td>0</td>\n",
       "      <td>0</td>\n",
       "      <td>0</td>\n",
       "      <td>1</td>\n",
       "      <td>null</td>\n",
       "      <td>Native- Born in the United States</td>\n",
       "      <td>52</td>\n",
       "      <td>-50000</td>\n",
       "      <td>1</td>\n",
       "      <td>0</td>\n",
       "      <td>1</td>\n",
       "      <td>1</td>\n",
       "      <td>1</td>\n",
       "      <td>0</td>\n",
       "    </tr>\n",
       "    <tr>\n",
       "      <th>2</th>\n",
       "      <td>18</td>\n",
       "      <td>null</td>\n",
       "      <td>6</td>\n",
       "      <td>0</td>\n",
       "      <td>Never married</td>\n",
       "      <td>null</td>\n",
       "      <td>null</td>\n",
       "      <td>Asian or Pacific Islander</td>\n",
       "      <td>Not in labor force</td>\n",
       "      <td>0</td>\n",
       "      <td>0</td>\n",
       "      <td>0</td>\n",
       "      <td>0</td>\n",
       "      <td>null</td>\n",
       "      <td>Foreign born- Not a citizen of U S</td>\n",
       "      <td>0</td>\n",
       "      <td>-50000</td>\n",
       "      <td>0</td>\n",
       "      <td>0</td>\n",
       "      <td>0</td>\n",
       "      <td>0</td>\n",
       "      <td>0</td>\n",
       "      <td>0</td>\n",
       "    </tr>\n",
       "    <tr>\n",
       "      <th>3</th>\n",
       "      <td>9</td>\n",
       "      <td>null</td>\n",
       "      <td>0</td>\n",
       "      <td>0</td>\n",
       "      <td>Never married</td>\n",
       "      <td>null</td>\n",
       "      <td>null</td>\n",
       "      <td>White</td>\n",
       "      <td>Children or Armed Forces</td>\n",
       "      <td>0</td>\n",
       "      <td>0</td>\n",
       "      <td>0</td>\n",
       "      <td>0</td>\n",
       "      <td>Both parents present</td>\n",
       "      <td>Native- Born in the United States</td>\n",
       "      <td>0</td>\n",
       "      <td>-50000</td>\n",
       "      <td>0</td>\n",
       "      <td>1</td>\n",
       "      <td>1</td>\n",
       "      <td>1</td>\n",
       "      <td>1</td>\n",
       "      <td>0</td>\n",
       "    </tr>\n",
       "    <tr>\n",
       "      <th>4</th>\n",
       "      <td>10</td>\n",
       "      <td>null</td>\n",
       "      <td>0</td>\n",
       "      <td>0</td>\n",
       "      <td>Never married</td>\n",
       "      <td>null</td>\n",
       "      <td>null</td>\n",
       "      <td>White</td>\n",
       "      <td>Children or Armed Forces</td>\n",
       "      <td>0</td>\n",
       "      <td>0</td>\n",
       "      <td>0</td>\n",
       "      <td>0</td>\n",
       "      <td>Both parents present</td>\n",
       "      <td>Native- Born in the United States</td>\n",
       "      <td>0</td>\n",
       "      <td>-50000</td>\n",
       "      <td>0</td>\n",
       "      <td>1</td>\n",
       "      <td>1</td>\n",
       "      <td>1</td>\n",
       "      <td>1</td>\n",
       "      <td>0</td>\n",
       "    </tr>\n",
       "  </tbody>\n",
       "</table>\n",
       "</div>"
      ],
      "text/plain": [
       "   age                 class_of_worker  education  wage_per_hour marital_status major_industry_code                major_occupation_code                       race full_or_part_time_employment_stat  capital_gains  capital_losses  divdends_from_stocks  family_members_under total_person_earnings                         citizenship  weeks_worked earn_over_50k  is_male  is_lived_in_this_house_1_year_ago  born_usa_father  born_usa_mother  born_usa_self  is_self_employed\n",
       "0   73                            null          9              0        Widowed                null                                 null                      White                Not in labor force              0               0                     0                     0                  null   Native- Born in the United States             0        -50000        0                                  0                1                1              1                 0\n",
       "1   58  Self-employed-not incorporated         10              0       Divorced        Construction  Precision production craft & repair                      White          Children or Armed Forces              0               0                     0                     1                  null   Native- Born in the United States            52        -50000        1                                  0                1                1              1                 0\n",
       "2   18                            null          6              0  Never married                null                                 null  Asian or Pacific Islander                Not in labor force              0               0                     0                     0                  null  Foreign born- Not a citizen of U S             0        -50000        0                                  0                0                0              0                 0\n",
       "3    9                            null          0              0  Never married                null                                 null                      White          Children or Armed Forces              0               0                     0                     0  Both parents present   Native- Born in the United States             0        -50000        0                                  1                1                1              1                 0\n",
       "4   10                            null          0              0  Never married                null                                 null                      White          Children or Armed Forces              0               0                     0                     0  Both parents present   Native- Born in the United States             0        -50000        0                                  1                1                1              1                 0"
      ]
     },
     "execution_count": 28,
     "metadata": {},
     "output_type": "execute_result"
    }
   ],
   "source": [
    "df.head()"
   ]
  },
  {
   "cell_type": "code",
   "execution_count": 29,
   "metadata": {},
   "outputs": [
    {
     "data": {
      "text/plain": [
       "['age',\n",
       " 'born_usa_father',\n",
       " 'born_usa_mother',\n",
       " 'born_usa_self',\n",
       " 'capital_gains',\n",
       " 'capital_losses',\n",
       " 'citizenship',\n",
       " 'class_of_worker',\n",
       " 'divdends_from_stocks',\n",
       " 'earn_over_50k',\n",
       " 'education',\n",
       " 'family_members_under',\n",
       " 'full_or_part_time_employment_stat',\n",
       " 'is_lived_in_this_house_1_year_ago',\n",
       " 'is_male',\n",
       " 'is_self_employed',\n",
       " 'major_industry_code',\n",
       " 'major_occupation_code',\n",
       " 'marital_status',\n",
       " 'race',\n",
       " 'total_person_earnings',\n",
       " 'wage_per_hour',\n",
       " 'weeks_worked']"
      ]
     },
     "execution_count": 29,
     "metadata": {},
     "output_type": "execute_result"
    }
   ],
   "source": [
    "sorted(df.columns)"
   ]
  },
  {
   "cell_type": "code",
   "execution_count": 30,
   "metadata": {},
   "outputs": [
    {
     "data": {
      "text/html": [
       "<div>\n",
       "<style scoped>\n",
       "    .dataframe tbody tr th:only-of-type {\n",
       "        vertical-align: middle;\n",
       "    }\n",
       "\n",
       "    .dataframe tbody tr th {\n",
       "        vertical-align: top;\n",
       "    }\n",
       "\n",
       "    .dataframe thead th {\n",
       "        text-align: right;\n",
       "    }\n",
       "</style>\n",
       "<table border=\"1\" class=\"dataframe\">\n",
       "  <thead>\n",
       "    <tr style=\"text-align: right;\">\n",
       "      <th></th>\n",
       "      <th>age</th>\n",
       "      <th>wage_per_hour</th>\n",
       "      <th>capital_gains</th>\n",
       "      <th>capital_losses</th>\n",
       "      <th>divdends_from_stocks</th>\n",
       "      <th>family_members_under</th>\n",
       "      <th>weeks_worked</th>\n",
       "      <th>education</th>\n",
       "      <th>is_male</th>\n",
       "      <th>is_lived_in_this_house_1_year_ago</th>\n",
       "      <th>born_usa_father</th>\n",
       "      <th>born_usa_mother</th>\n",
       "      <th>born_usa_self</th>\n",
       "      <th>is_self_employed</th>\n",
       "      <th>race</th>\n",
       "      <th>citizenship</th>\n",
       "      <th>class_of_worker</th>\n",
       "      <th>total_person_earnings</th>\n",
       "      <th>marital_status</th>\n",
       "      <th>major_occupation_code</th>\n",
       "      <th>major_industry_code</th>\n",
       "      <th>full_or_part_time_employment_stat</th>\n",
       "    </tr>\n",
       "  </thead>\n",
       "  <tbody>\n",
       "    <tr>\n",
       "      <th>0</th>\n",
       "      <td>73</td>\n",
       "      <td>0</td>\n",
       "      <td>0</td>\n",
       "      <td>0</td>\n",
       "      <td>0</td>\n",
       "      <td>0</td>\n",
       "      <td>0</td>\n",
       "      <td>9</td>\n",
       "      <td>0</td>\n",
       "      <td>0</td>\n",
       "      <td>1</td>\n",
       "      <td>1</td>\n",
       "      <td>1</td>\n",
       "      <td>0</td>\n",
       "      <td>White</td>\n",
       "      <td>Native- Born in the United States</td>\n",
       "      <td>null</td>\n",
       "      <td>null</td>\n",
       "      <td>Widowed</td>\n",
       "      <td>null</td>\n",
       "      <td>null</td>\n",
       "      <td>Not in labor force</td>\n",
       "    </tr>\n",
       "    <tr>\n",
       "      <th>1</th>\n",
       "      <td>58</td>\n",
       "      <td>0</td>\n",
       "      <td>0</td>\n",
       "      <td>0</td>\n",
       "      <td>0</td>\n",
       "      <td>1</td>\n",
       "      <td>52</td>\n",
       "      <td>10</td>\n",
       "      <td>1</td>\n",
       "      <td>0</td>\n",
       "      <td>1</td>\n",
       "      <td>1</td>\n",
       "      <td>1</td>\n",
       "      <td>0</td>\n",
       "      <td>White</td>\n",
       "      <td>Native- Born in the United States</td>\n",
       "      <td>Self-employed-not incorporated</td>\n",
       "      <td>null</td>\n",
       "      <td>Divorced</td>\n",
       "      <td>Precision production craft &amp; repair</td>\n",
       "      <td>Construction</td>\n",
       "      <td>Children or Armed Forces</td>\n",
       "    </tr>\n",
       "    <tr>\n",
       "      <th>2</th>\n",
       "      <td>18</td>\n",
       "      <td>0</td>\n",
       "      <td>0</td>\n",
       "      <td>0</td>\n",
       "      <td>0</td>\n",
       "      <td>0</td>\n",
       "      <td>0</td>\n",
       "      <td>6</td>\n",
       "      <td>0</td>\n",
       "      <td>0</td>\n",
       "      <td>0</td>\n",
       "      <td>0</td>\n",
       "      <td>0</td>\n",
       "      <td>0</td>\n",
       "      <td>Asian or Pacific Islander</td>\n",
       "      <td>Foreign born- Not a citizen of U S</td>\n",
       "      <td>null</td>\n",
       "      <td>null</td>\n",
       "      <td>Never married</td>\n",
       "      <td>null</td>\n",
       "      <td>null</td>\n",
       "      <td>Not in labor force</td>\n",
       "    </tr>\n",
       "    <tr>\n",
       "      <th>3</th>\n",
       "      <td>9</td>\n",
       "      <td>0</td>\n",
       "      <td>0</td>\n",
       "      <td>0</td>\n",
       "      <td>0</td>\n",
       "      <td>0</td>\n",
       "      <td>0</td>\n",
       "      <td>0</td>\n",
       "      <td>0</td>\n",
       "      <td>1</td>\n",
       "      <td>1</td>\n",
       "      <td>1</td>\n",
       "      <td>1</td>\n",
       "      <td>0</td>\n",
       "      <td>White</td>\n",
       "      <td>Native- Born in the United States</td>\n",
       "      <td>null</td>\n",
       "      <td>Both parents present</td>\n",
       "      <td>Never married</td>\n",
       "      <td>null</td>\n",
       "      <td>null</td>\n",
       "      <td>Children or Armed Forces</td>\n",
       "    </tr>\n",
       "    <tr>\n",
       "      <th>4</th>\n",
       "      <td>10</td>\n",
       "      <td>0</td>\n",
       "      <td>0</td>\n",
       "      <td>0</td>\n",
       "      <td>0</td>\n",
       "      <td>0</td>\n",
       "      <td>0</td>\n",
       "      <td>0</td>\n",
       "      <td>0</td>\n",
       "      <td>1</td>\n",
       "      <td>1</td>\n",
       "      <td>1</td>\n",
       "      <td>1</td>\n",
       "      <td>0</td>\n",
       "      <td>White</td>\n",
       "      <td>Native- Born in the United States</td>\n",
       "      <td>null</td>\n",
       "      <td>Both parents present</td>\n",
       "      <td>Never married</td>\n",
       "      <td>null</td>\n",
       "      <td>null</td>\n",
       "      <td>Children or Armed Forces</td>\n",
       "    </tr>\n",
       "  </tbody>\n",
       "</table>\n",
       "</div>"
      ],
      "text/plain": [
       "   age  wage_per_hour  capital_gains  capital_losses  divdends_from_stocks  family_members_under  weeks_worked  education  is_male  is_lived_in_this_house_1_year_ago  born_usa_father  born_usa_mother  born_usa_self  is_self_employed                       race                         citizenship                 class_of_worker total_person_earnings marital_status                major_occupation_code major_industry_code full_or_part_time_employment_stat\n",
       "0   73              0              0               0                     0                     0             0          9        0                                  0                1                1              1                 0                      White   Native- Born in the United States                            null                  null        Widowed                                 null                null                Not in labor force\n",
       "1   58              0              0               0                     0                     1            52         10        1                                  0                1                1              1                 0                      White   Native- Born in the United States  Self-employed-not incorporated                  null       Divorced  Precision production craft & repair        Construction          Children or Armed Forces\n",
       "2   18              0              0               0                     0                     0             0          6        0                                  0                0                0              0                 0  Asian or Pacific Islander  Foreign born- Not a citizen of U S                            null                  null  Never married                                 null                null                Not in labor force\n",
       "3    9              0              0               0                     0                     0             0          0        0                                  1                1                1              1                 0                      White   Native- Born in the United States                            null  Both parents present  Never married                                 null                null          Children or Armed Forces\n",
       "4   10              0              0               0                     0                     0             0          0        0                                  1                1                1              1                 0                      White   Native- Born in the United States                            null  Both parents present  Never married                                 null                null          Children or Armed Forces"
      ]
     },
     "execution_count": 30,
     "metadata": {},
     "output_type": "execute_result"
    }
   ],
   "source": [
    "# these are the columns we binarized earlier with custom conditions\n",
    "bin_cols=[\"education\", \"is_male\", \"is_lived_in_this_house_1_year_ago\", \"born_usa_father\",\n",
    "                      \"born_usa_mother\", \"born_usa_self\", \"is_self_employed\"]\n",
    "\n",
    "cols = ratio_cols+bin_cols+remaining_nominal_cols\n",
    "\n",
    "data = df[cols]\n",
    "\n",
    "data.head()"
   ]
  },
  {
   "cell_type": "markdown",
   "metadata": {},
   "source": [
    "*Now we can see the dataframe with numeric features to the left, and our nominal features to the right.\n",
    "The next step is to utilise the Scikit learn's ColumnTransformer and one-hot encoder to finish the pre-processing of the data frame.*"
   ]
  },
  {
   "cell_type": "code",
   "execution_count": 31,
   "metadata": {},
   "outputs": [],
   "source": [
    "from sklearn.compose import ColumnTransformer\n",
    "from sklearn.pipeline import Pipeline\n",
    "from sklearn.impute import SimpleImputer\n",
    "from sklearn.preprocessing import MinMaxScaler, OneHotEncoder\n",
    "\n",
    "# We create the preprocessing pipelines for both numeric and categorical data.\n",
    "numeric_features = ratio_cols+bin_cols\n",
    "\n",
    "numeric_transformer = Pipeline(steps=[\n",
    "                        ('imputer', SimpleImputer(strategy='median')),\n",
    "                        ('scaler', MinMaxScaler())])\n",
    "\n",
    "categorical_features = remaining_nominal_cols\n",
    "\n",
    "categorical_transformer = Pipeline(steps=[\n",
    "    ('imputer', SimpleImputer(strategy='constant', fill_value='null')),\n",
    "    ('onehot', OneHotEncoder(handle_unknown='ignore'))])\n",
    "\n",
    "preprocessor = ColumnTransformer(\n",
    "    transformers=[\n",
    "        ('num', numeric_transformer, numeric_features),\n",
    "        ('cat', categorical_transformer, categorical_features)])\n"
   ]
  },
  {
   "cell_type": "code",
   "execution_count": 32,
   "metadata": {},
   "outputs": [],
   "source": [
    "processed_data = preprocessor.fit_transform(data)"
   ]
  },
  {
   "cell_type": "code",
   "execution_count": 33,
   "metadata": {},
   "outputs": [
    {
     "data": {
      "text/plain": [
       "<199523x92 sparse matrix of type '<class 'numpy.float64'>'\n",
       "\twith 2887103 stored elements in Compressed Sparse Row format>"
      ]
     },
     "execution_count": 33,
     "metadata": {},
     "output_type": "execute_result"
    }
   ],
   "source": [
    "processed_data"
   ]
  },
  {
   "cell_type": "code",
   "execution_count": 34,
   "metadata": {},
   "outputs": [
    {
     "data": {
      "text/plain": [
       "(199523, 22)"
      ]
     },
     "execution_count": 34,
     "metadata": {},
     "output_type": "execute_result"
    }
   ],
   "source": [
    "data.shape"
   ]
  },
  {
   "cell_type": "markdown",
   "metadata": {},
   "source": [
    "*Notice 2 things:*\n",
    "1. *the number of features after proprocessing has increased substantially from 22 to 92 - this is because of the one hot encoding creating binary variables for each possible category.*\n",
    "2. *the data is now stored as a sparse matrix. Sparse matrices are a more efficient way of storing data which is mostly 0s but contains a few non-zero values.*\n",
    "---"
   ]
  },
  {
   "cell_type": "markdown",
   "metadata": {},
   "source": [
    "### A quick note on overfitting\n",
    "*In this section, we will illustrate the notion of overfitting. To do this we will first generate some synthetic data.*"
   ]
  },
  {
   "cell_type": "code",
   "execution_count": 35,
   "metadata": {},
   "outputs": [],
   "source": [
    "%matplotlib inline\n",
    "import matplotlib\n",
    "import seaborn as sns\n",
    "sns.set()\n",
    "matplotlib.rcParams['figure.dpi'] = 144"
   ]
  },
  {
   "cell_type": "code",
   "execution_count": 36,
   "metadata": {},
   "outputs": [
    {
     "data": {
      "image/png": "[encoded data removed]",
      "text/plain": [
       "<Figure size 432x288 with 1 Axes>"
      ]
     },
     "metadata": {
      "needs_background": "light"
     },
     "output_type": "display_data"
    }
   ],
   "source": [
    "from IPython import display\n",
    "from sklearn.externals.six import StringIO\n",
    "import numpy as np\n",
    "from matplotlib import pylab as plt\n",
    " \n",
    "# Create a random dataset\n",
    "rng = np.random.RandomState(42) # fix the seed so the result are stable\n",
    "N_points = 400\n",
    "X = np.sort(5 * rng.rand(N_points, 1), axis=0)\n",
    "y = np.sin(X).ravel() + .4 * (0.5 - rng.rand(N_points))\n",
    "\n",
    "plt.plot(X, y, 'b.')\n",
    "plt.xlabel('Data')\n",
    "plt.xlabel('X')\n",
    "plt.ylabel('Y')\n",
    "plt.show()"
   ]
  },
  {
   "cell_type": "markdown",
   "metadata": {},
   "source": [
    "*So, above is our example dataset and suppose we want fit a decision tree regressor to estimate the value of unseen data. (You don't need to know anything about decision trees at this stage. But if you want to find out more, you can read more about decision trees [here](http://scikit-learn.org/stable/modules/tree.html).) All you need to know is that max_depth is a hyperparameter of the decision tree and if we increase that hyperparameter, the tree can model more complexity in the data.*"
   ]
  },
  {
   "cell_type": "code",
   "execution_count": 37,
   "metadata": {},
   "outputs": [
    {
     "data": {
      "application/vnd.jupyter.widget-view+json": {
       "model_id": "49a45616f1ab48b88e44791b8f55093c",
       "version_major": 2,
       "version_minor": 0
      },
      "text/plain": [
       "interactive(children=(IntSlider(value=2, description='max_depth', max=8, min=1), Output()), _dom_classes=('wid…"
      ]
     },
     "metadata": {},
     "output_type": "display_data"
    }
   ],
   "source": [
    "from ipywidgets import interactive, IntSlider\n",
    "from sklearn import tree\n",
    "\n",
    "def train_and_plot(max_depth):\n",
    "    est = tree.DecisionTreeRegressor(max_depth=max_depth)\n",
    "    est.fit(X, y)\n",
    "\n",
    "    plt.plot(X, y, 'b.', label='data')\n",
    "    line = plt.plot(X, est.predict(X), 'r-', label='model')\n",
    "    plt.setp(line, linewidth=3.)\n",
    "    plt.xlabel('X')\n",
    "    plt.ylabel('Y')\n",
    "    plt.legend(loc='upper right');\n",
    "    plt.show()\n",
    "    \n",
    "max_depth_slider=IntSlider(min=1,max=8,step=1,value=2)\n",
    "interactive(train_and_plot, max_depth=max_depth_slider)"
   ]
  },
  {
   "cell_type": "markdown",
   "metadata": {},
   "source": [
    "**Exercise:** Try playing around with `max_depth` in the above above cell. What happens when you set it to `max_depth = 2`.  Does the fitted model look better or worse?  What about `4` or `8`?  We can tell (visually) that `max_depth = 2` is *underfitting* and `max_depth = 8` is *overfitting*. But how can we do this computationally?"
   ]
  },
  {
   "cell_type": "markdown",
   "metadata": {},
   "source": [
    "#### In-sample (Training) error\n",
    "*Naively, you might think that we could just measure the error of the model and choose the model with the best error.  For example, let's define the error as the mean squared error (MSE).  Let's try that below:*"
   ]
  },
  {
   "cell_type": "code",
   "execution_count": 38,
   "metadata": {},
   "outputs": [
    {
     "data": {
      "image/png": "[encoded data removed]",
      "text/plain": [
       "<Figure size 432x288 with 1 Axes>"
      ]
     },
     "metadata": {
      "needs_background": "light"
     },
     "output_type": "display_data"
    }
   ],
   "source": [
    "from sklearn import metrics\n",
    "\n",
    "max_depths = range(1, 10)\n",
    "in_sample_errors = []\n",
    "for max_depth in max_depths:\n",
    "    y_pred = tree.DecisionTreeRegressor(max_depth=max_depth).fit(X, y).predict(X)\n",
    "    in_sample_errors.append(metrics.mean_squared_error(y, y_pred))\n",
    "    \n",
    "plt.plot(max_depths, in_sample_errors, label='In-Sample Error')\n",
    "plt.xlabel('max_depth')\n",
    "plt.ylabel('MSE')\n",
    "plt.legend(loc='upper right');"
   ]
  },
  {
   "cell_type": "markdown",
   "metadata": {},
   "source": [
    "*We can see that the error is decreasing with the depth of the tree. Our visual inspection told us models with max_depth = 8 completely over-fit the error. It turns out that the In-Sample Error that we calculated above will always decrease with the complexity of the model (in this case, the depth of the tree). We can see from above that this leads us to overfit the data. In order to test how well our model generalizes, we need to see how it performs on new data.*"
   ]
  },
  {
   "cell_type": "markdown",
   "metadata": {},
   "source": [
    "#### Out of sample (Testing) error\n",
    "\n",
    "*One way to do this is to (randomly) split the data into training and test sets.  We train on the training set and test the resulting model on the test set.  Since the trained model never saw the test data, we can evaluate the performance on the test data.*"
   ]
  },
  {
   "cell_type": "code",
   "execution_count": 39,
   "metadata": {},
   "outputs": [],
   "source": [
    "from sklearn import model_selection\n",
    "from sklearn import metrics\n",
    "\n",
    "X_train, X_test, y_train, y_test = model_selection.train_test_split(X, y, test_size=0.2, random_state=42)"
   ]
  },
  {
   "cell_type": "code",
   "execution_count": 40,
   "metadata": {},
   "outputs": [
    {
     "data": {
      "image/png": "[encoded data removed]",
      "text/plain": [
       "<Figure size 432x288 with 1 Axes>"
      ]
     },
     "metadata": {
      "needs_background": "light"
     },
     "output_type": "display_data"
    }
   ],
   "source": [
    "test_errors = []\n",
    "for max_depth in max_depths:\n",
    "    est = tree.DecisionTreeRegressor(max_depth=max_depth).fit(X_train, y_train)\n",
    "    y_pred = est.predict(X_test)\n",
    "    test_errors.append(metrics.mean_squared_error(y_test, y_pred))\n",
    "\n",
    "plt.plot(max_depths, in_sample_errors, label='In-Sample Error')\n",
    "plt.plot(max_depths, test_errors, label='Out-of-Sample Error')\n",
    "plt.xlabel('max_depth')\n",
    "plt.ylabel('MSE')\n",
    "plt.legend(loc='upper right');"
   ]
  },
  {
   "cell_type": "markdown",
   "metadata": {},
   "source": [
    "This is the picture we were looking for!  The *In-Sample Error (Training)* is always decreasing but the out *Out-of-Sample Error (Testing)* initially decreases with model complexity (higher `max_depth`) but ultimately increases again.  The *Out-of-Sample Error (Testing)* is the metric to look at when evaluating overfitting.\n",
    "\n",
    "It turns out that this is an illustration of a very general problem in machine-learning called **Bias-Variance tradeoff** (the concept is so general that it even has a [Wikipedia article](https://en.wikipedia.org/wiki/Bias%E2%80%93variance_dilemma).  A more rigorous account can be found [here](http://www.brnt.eu/phd/node14.html)).  The tradeoff tells us that we can decompose our *Out-of-Sample Error* into\n",
    "\n",
    "$$ \\mbox{Out-of-Sample Error} = \\mbox{Bias} + \\mbox{Variance}. $$\n",
    "\n",
    "The *Bias* corresponds to how far off we expect the model to deviate from reality (i.e. the model's bias) because of parametric assumptions (e.g. we forced the model to be linear or to be a tree of maximum depth 2).  It is given by the *In-Sample Error* of the above plot and always goes down with complexity.  High Bias models correspond to *underfitting*.\n",
    "\n",
    "The *Variance* accounts for the fact that the model was only trained on a (noisy) subset of the data and that the idiosyncratic noise in the data is therefore likely to contribute some variance to the model.  The more complex we allow the model to be, the more likely we are to overfit by picking up more of this noise.  High variance models correspond to *overfitting*.\n",
    "\n",
    "We can also think of bias as unmodeled data and variance as modeled noise.  As we increase the complexity of the model, we will necessarily model more of the data (reduce bias, reduce underfitting) but also start modeling noise (increase variance, increase overfitting).  Here's a helpful diagram of the decomposition.  Notice that at the optimal point, we have not yet learned on all our signal (still unmodeled data left) and we have picked up some noise and overfitting."
   ]
  },
  {
   "cell_type": "markdown",
   "metadata": {},
   "source": [
    "---\n",
    "### 4. and 5. - Model Calibration and Evaluation\n",
    "\n",
    "Back to the problem at hand and it's over to you... \n",
    "\n",
    "Split the preprocessed data and target values into a training and test data set using train_test_split. \n",
    "Then train the model of your choice and evaluate the outcome. \n"
   ]
  },
  {
   "cell_type": "code",
   "execution_count": 48,
   "metadata": {},
   "outputs": [
    {
     "name": "stdout",
     "output_type": "stream",
     "text": [
      "model score: 0.951\n"
     ]
    },
    {
     "name": "stderr",
     "output_type": "stream",
     "text": [
      "/usr/local/anaconda3/lib/python3.7/site-packages/sklearn/linear_model/logistic.py:758: ConvergenceWarning: lbfgs failed to converge. Increase the number of iterations.\n",
      "  \"of iterations.\", ConvergenceWarning)\n"
     ]
    }
   ],
   "source": [
    "from sklearn.linear_model import LogisticRegression\n",
    "from sklearn.model_selection import train_test_split, GridSearchCV\n",
    "\n",
    "\n",
    "clf1 = Pipeline(steps=[('preprocessor', preprocessor),\n",
    "                      ('classifier', LogisticRegression(solver='lbfgs'))])\n",
    "\n",
    "X_train, X_test, y_train, y_test = train_test_split(data, target, test_size=0.2)\n",
    "\n",
    "clf1.fit(X_train, y_train)\n",
    "print(\"model score: %.3f\" % clf1.score(X_test, y_test))"
   ]
  },
  {
   "cell_type": "code",
   "execution_count": 44,
   "metadata": {},
   "outputs": [
    {
     "name": "stdout",
     "output_type": "stream",
     "text": [
      "model score: 0.933\n"
     ]
    }
   ],
   "source": [
    "from sklearn.tree import DecisionTreeClassifier\n",
    "from sklearn.model_selection import train_test_split, GridSearchCV\n",
    "\n",
    "\n",
    "clf2 = Pipeline(steps=[('preprocessor', preprocessor),\n",
    "                      ('classifier', DecisionTreeClassifier())])\n",
    "\n",
    "\n",
    "clf2.fit(X_train, y_train)\n",
    "print(\"model score: %.3f\" % clf2.score(X_test, y_test))"
   ]
  },
  {
   "cell_type": "code",
   "execution_count": 42,
   "metadata": {},
   "outputs": [
    {
     "data": {
      "text/plain": [
       "0.9379419916500854"
      ]
     },
     "execution_count": 42,
     "metadata": {},
     "output_type": "execute_result"
    }
   ],
   "source": [
    "# BASELINE ACCURACY FROM IMBALANCED CLASSES\n",
    "(len(target) - sum(target))/len(target)"
   ]
  },
  {
   "cell_type": "markdown",
   "metadata": {},
   "source": [
    "**Questions:**\n",
    " - How accurate is the model? \n",
    " - Is accuracy the best metric? What others can you think of? ([Hint](https://towardsdatascience.com/beyond-accuracy-precision-and-recall-3da06bea9f6c))\n",
    " - What is the baseline accuracy that your model should be compared against?\n",
    " - How might you deal with unbalanced classes in your classification problem? ([Hint](https://elitedatascience.com/imbalanced-classes))\n",
    " - Can you add a grid search to improve your model performance without overfitting? ([Hint](https://scikit-learn.org/stable/auto_examples/compose/plot_column_transformer_mixed_types.html#using-the-prediction-pipeline-in-a-grid-search))\n",
    " - How do other models compare to the one you made?\n",
    " - What is the best model you managed to come up with?"
   ]
  },
  {
   "cell_type": "markdown",
   "metadata": {},
   "source": [
    "**Challenge:**\n",
    "\n",
    " - Train 4 different models and then use the output probabilities from those models as the input to a linear regression, to create your own custom ensemble model."
   ]
  }
 ],
 "metadata": {
  "kernelspec": {
   "display_name": "Python 3",
   "language": "python",
   "name": "python3"
  },
  "language_info": {
   "codemirror_mode": {
    "name": "ipython",
    "version": 3
   },
   "file_extension": ".py",
   "mimetype": "text/x-python",
   "name": "python",
   "nbconvert_exporter": "python",
   "pygments_lexer": "ipython3",
   "version": "3.7.3"
  }
 },
 "nbformat": 4,
 "nbformat_minor": 2
}
